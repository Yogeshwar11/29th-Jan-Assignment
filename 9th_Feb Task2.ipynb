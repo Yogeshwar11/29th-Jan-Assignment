{
 "cells": [
  {
   "cell_type": "markdown",
   "id": "1acc1a28-d362-4443-8970-94cc3bbcb293",
   "metadata": {},
   "source": [
    "Q.1"
   ]
  },
  {
   "cell_type": "code",
   "execution_count": 47,
   "id": "3455e0a2-5ce0-40a6-9b0b-d9feac494a41",
   "metadata": {},
   "outputs": [],
   "source": [
    "class vehicle():\n",
    "    def __init__(self, name_of_vehicle, max_speed, average_of_vehicle):\n",
    "        self.name_of_vehicle=name_of_vehicle\n",
    "        self.max_speed=max_speed\n",
    "        self.average_of_vehicle=average_of_vehicle"
   ]
  },
  {
   "cell_type": "markdown",
   "id": "1cc37c62-31b0-4fe8-a77e-afb95aef4ecb",
   "metadata": {},
   "source": [
    "Q.2"
   ]
  },
  {
   "cell_type": "code",
   "execution_count": 49,
   "id": "7038605f-6172-457f-bfbd-41f717aa85a9",
   "metadata": {},
   "outputs": [
    {
     "name": "stdout",
     "output_type": "stream",
     "text": [
      "NEXON,5\n"
     ]
    }
   ],
   "source": [
    "class car1(vehicle):\n",
    "    def seating_capacity(self, capacity):\n",
    "        self.capacity=capacity\n",
    "        return f\"{self.name_of_vehicle},{capacity}\"\n",
    "    \n",
    "obj1=car1(\"NEXON\",180,65)\n",
    "print(obj1.seating_capacity(5))"
   ]
  },
  {
   "cell_type": "markdown",
   "id": "955dac75-ab04-41b3-b1c4-2016556077f8",
   "metadata": {},
   "source": [
    "Q.3 Multiple Inheritance"
   ]
  },
  {
   "cell_type": "code",
   "execution_count": 56,
   "id": "be8f6c4e-7ff9-4254-a1ad-51edec2fa1cb",
   "metadata": {},
   "outputs": [
    {
     "name": "stdout",
     "output_type": "stream",
     "text": [
      "This is no of students of class 2.\n",
      "This is no of students of class 3.\n",
      "This is total no os students in class 3 and 4.\n"
     ]
    }
   ],
   "source": [
    "class student_of_class2():\n",
    "    def no_of_students2(self):\n",
    "        print(\"This is no of students of class 2.\")\n",
    "        \n",
    "class student_of_class3():\n",
    "    def no_of_students3(self):\n",
    "        print(\"This is no of students of class 3.\")\n",
    "        \n",
    "class student_of_class3and4(student_of_class2,student_of_class3):\n",
    "    def total_students(self):\n",
    "        print(\"This is total no os students in class 3 and 4.\")\n",
    "        \n",
    "obj2=student_of_class3and4()\n",
    "obj2.no_of_students2()\n",
    "obj2.no_of_students3()\n",
    "obj2.total_students()"
   ]
  },
  {
   "cell_type": "markdown",
   "id": "056cd9b3-e86b-4c90-bcd5-fe4eb1bbfd5d",
   "metadata": {},
   "source": [
    " "
   ]
  },
  {
   "cell_type": "markdown",
   "id": "9a8ea5a8-da88-4b0e-9d60-2d0d8c8c2218",
   "metadata": {},
   "source": [
    "Q. 4"
   ]
  },
  {
   "cell_type": "markdown",
   "id": "59447c0d-c7d6-4899-8c36-821fffe5db68",
   "metadata": {},
   "source": [
    "Getters are the methods that are used in Object-Oriented Programming (OOPS) to access a class's private attributes."
   ]
  },
  {
   "cell_type": "markdown",
   "id": "80887919-1657-4fea-aa64-a9d737ebb9c2",
   "metadata": {},
   "source": [
    "The setter is a method that is used to set the property's value."
   ]
  },
  {
   "cell_type": "code",
   "execution_count": 27,
   "id": "bffb2286-4ae6-4563-b867-4b1216c7def8",
   "metadata": {},
   "outputs": [
    {
     "name": "stdout",
     "output_type": "stream",
     "text": [
      "26\n",
      "26\n"
     ]
    }
   ],
   "source": [
    "class age():\n",
    "    def __init__(self, ageofperson):\n",
    "        self.ageofperson=ageofperson\n",
    "        \n",
    "    def set_age(self, ageofperson):\n",
    "        self.ageofperson=ageofperson\n",
    "        \n",
    "    def get_age(self):\n",
    "        return self.ageofperson\n",
    "    \n",
    "obj7=age(26)\n",
    "print(obj7.get_age())\n",
    "print(obj7.ageofperson)"
   ]
  },
  {
   "cell_type": "code",
   "execution_count": null,
   "id": "e75541d8-1496-4efe-9653-60e983f857da",
   "metadata": {},
   "outputs": [],
   "source": []
  },
  {
   "cell_type": "markdown",
   "id": "1900327b-8746-4062-bb66-d5bfae9dd554",
   "metadata": {},
   "source": [
    "Q.5"
   ]
  },
  {
   "cell_type": "markdown",
   "id": "d13cd252-763d-4d20-bead-11e0eb6bc648",
   "metadata": {},
   "source": [
    "Method overriding is a feature of object-oriented programming languages where the subclass or child class can provide the program with specific characteristics or a specific implementation process of data provided that are already defined in the parent class or superclass."
   ]
  },
  {
   "cell_type": "code",
   "execution_count": 48,
   "id": "0ef470f6-f7a9-4bad-b08e-ad446cc51eab",
   "metadata": {},
   "outputs": [
    {
     "name": "stdout",
     "output_type": "stream",
     "text": [
      "This is Parent Class\n",
      "This is Child Class\n"
     ]
    }
   ],
   "source": [
    "class Parent():\n",
    "    def __init__(self):\n",
    "        self.msg = \"This is Parent Class\"\n",
    "        \n",
    "    def showmsg(self):\n",
    "        print(self.msg)\n",
    "        \n",
    "class Child(Parent):\n",
    "    def __init__(self):\n",
    "        self.msg1= \"This is Child Class\"\n",
    "        \n",
    "    def showmsg(self):\n",
    "        print(self.msg1)\n",
    "\n",
    "obj8=Parent()    \n",
    "obj8.showmsg()\n",
    "obj9=Child()\n",
    "obj9.showmsg()"
   ]
  },
  {
   "cell_type": "code",
   "execution_count": null,
   "id": "3e63a5ec-5f38-4e81-b358-03bdbcaceb29",
   "metadata": {},
   "outputs": [],
   "source": []
  }
 ],
 "metadata": {
  "kernelspec": {
   "display_name": "Python 3 (ipykernel)",
   "language": "python",
   "name": "python3"
  },
  "language_info": {
   "codemirror_mode": {
    "name": "ipython",
    "version": 3
   },
   "file_extension": ".py",
   "mimetype": "text/x-python",
   "name": "python",
   "nbconvert_exporter": "python",
   "pygments_lexer": "ipython3",
   "version": "3.10.8"
  }
 },
 "nbformat": 4,
 "nbformat_minor": 5
}
