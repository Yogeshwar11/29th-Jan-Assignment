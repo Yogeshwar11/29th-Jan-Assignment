{
 "cells": [
  {
   "cell_type": "markdown",
   "id": "144f699a-0999-4ba2-ab52-5ac357306004",
   "metadata": {},
   "source": [
    "Q.1 Multiprocessing in Python is a built-in package that allows the system to run multiple processes simultaneously. It will enable the breaking of applications into smaller threads that can run independently. It is used in python because CPU can easily executes several tasks at once, with each task using its own processor."
   ]
  },
  {
   "cell_type": "code",
   "execution_count": null,
   "id": "b8c43b2e-202c-4d88-871a-698bd7ff8b44",
   "metadata": {},
   "outputs": [],
   "source": []
  },
  {
   "cell_type": "markdown",
   "id": "f79394f7-c557-4ffb-98d0-2f354bd50fa9",
   "metadata": {},
   "source": [
    "Q.2 Multiprocessing\n",
    "\n",
    "Multiprocessing uses two or more CPUs to increase computing power, whereas multithreading uses a single process with multiple code segments to increase computing power.\n",
    "\n",
    "Multithreading\n",
    "\n",
    "Multithreading focuses on generating computing threads from a single process, whereas multiprocessing increases computing power by adding CPUs."
   ]
  },
  {
   "cell_type": "code",
   "execution_count": null,
   "id": "140c78e2-996e-4532-b467-b9f75eeb1617",
   "metadata": {},
   "outputs": [],
   "source": []
  },
  {
   "cell_type": "markdown",
   "id": "870143ad-f3a6-4be9-880d-9bb6cf770056",
   "metadata": {},
   "source": [
    "Q.3"
   ]
  },
  {
   "cell_type": "code",
   "execution_count": 11,
   "id": "32682ab3-0862-47cf-a3d9-f11cd8121c70",
   "metadata": {},
   "outputs": [
    {
     "name": "stdout",
     "output_type": "stream",
     "text": [
      "[1, 4, 9]\n"
     ]
    }
   ],
   "source": [
    "from multiprocessing import Pool\n",
    "\n",
    "def f(x):\n",
    "    return x*x\n",
    "\n",
    "if __name__ == '__main__':\n",
    "    with Pool(5) as p:\n",
    "        print(p.map(f, [1, 2, 3]))"
   ]
  },
  {
   "cell_type": "code",
   "execution_count": null,
   "id": "2a9b7838-81e3-4f39-a1d6-7d5b41ecbb4e",
   "metadata": {},
   "outputs": [],
   "source": []
  },
  {
   "cell_type": "markdown",
   "id": "30d19d58-22a2-4db3-9712-1a4c4245777a",
   "metadata": {},
   "source": [
    "Q.4 Python multiprocessing Pool can be used for parallel execution of a function across multiple input values, distributing the input data across processes. It is used to get the result early."
   ]
  },
  {
   "cell_type": "code",
   "execution_count": null,
   "id": "047f1951-0e9c-45a0-a9e9-a11ea1ca5086",
   "metadata": {},
   "outputs": [],
   "source": []
  },
  {
   "cell_type": "markdown",
   "id": "5247c984-c143-4c1f-a171-5c20155070cd",
   "metadata": {},
   "source": [
    "Q. 5 We can configure the number of worker processes in the multiprocessing.pool.Pool by setting the “processes” argument in the constructor.\n",
    "\n",
    "pool = multiprocessing.pool.Pool(processes=4)"
   ]
  },
  {
   "cell_type": "code",
   "execution_count": null,
   "id": "3fa91644-7670-48d1-915c-623777648e4b",
   "metadata": {},
   "outputs": [],
   "source": []
  },
  {
   "cell_type": "markdown",
   "id": "ddb0ccd2-d065-4042-9c71-639913199b6a",
   "metadata": {},
   "source": [
    "Q.6"
   ]
  },
  {
   "cell_type": "code",
   "execution_count": null,
   "id": "b6122650-c63f-4f9c-af9b-31f3a980982d",
   "metadata": {},
   "outputs": [],
   "source": []
  }
 ],
 "metadata": {
  "kernelspec": {
   "display_name": "Python 3 (ipykernel)",
   "language": "python",
   "name": "python3"
  },
  "language_info": {
   "codemirror_mode": {
    "name": "ipython",
    "version": 3
   },
   "file_extension": ".py",
   "mimetype": "text/x-python",
   "name": "python",
   "nbconvert_exporter": "python",
   "pygments_lexer": "ipython3",
   "version": "3.10.8"
  }
 },
 "nbformat": 4,
 "nbformat_minor": 5
}
