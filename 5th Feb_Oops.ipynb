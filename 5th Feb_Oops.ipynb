{
 "cells": [
  {
   "cell_type": "markdown",
   "id": "fd6a1d0c-f6ec-4506-a2a8-9a7b3cab175e",
   "metadata": {},
   "source": [
    "Q 1 A class is considered as a blueprint of objects."
   ]
  },
  {
   "cell_type": "code",
   "execution_count": 13,
   "id": "13b7b263-2e43-4d6c-acc5-7683a73e1371",
   "metadata": {},
   "outputs": [],
   "source": [
    "class Bike():\n",
    "    name = \"\"\n",
    "    gear = 0"
   ]
  },
  {
   "cell_type": "markdown",
   "id": "2ef258d7-a78a-4023-ae8b-c8c1892ef810",
   "metadata": {},
   "source": [
    "An object is called an instance of a class."
   ]
  },
  {
   "cell_type": "code",
   "execution_count": 14,
   "id": "3efd87cd-df6e-4735-a441-5f6428a666dd",
   "metadata": {},
   "outputs": [],
   "source": [
    "bike1 = Bike()\n",
    "bike1.name=\"Honda\"\n",
    "bike1.gear=\"5\""
   ]
  },
  {
   "cell_type": "code",
   "execution_count": null,
   "id": "47f98a4b-f4c0-4708-b9e9-fb726270334a",
   "metadata": {},
   "outputs": [],
   "source": []
  },
  {
   "cell_type": "markdown",
   "id": "a9b6f098-64f5-4b8a-a33f-c7dd6c81b560",
   "metadata": {},
   "source": [
    "Q.2 Four pillars are Inheritance, Polymorphism, Encapsulation and Abstraction"
   ]
  },
  {
   "cell_type": "code",
   "execution_count": null,
   "id": "1bfab50a-2c75-478b-9802-316724491812",
   "metadata": {},
   "outputs": [],
   "source": []
  },
  {
   "cell_type": "raw",
   "id": "c7efc4e1-c712-420b-8b1d-9614a4bb2627",
   "metadata": {},
   "source": [
    "Q 3 The __init__  function is called every time an object is created from a class. The __init__ method lets the class initialize the object’s attributes and serves no other purpose. It is only used within classes."
   ]
  },
  {
   "cell_type": "code",
   "execution_count": 24,
   "id": "9cb1f607-18f4-4139-aaff-395c92a74dff",
   "metadata": {},
   "outputs": [],
   "source": [
    "class Dog:                   \n",
    " \n",
    "    def __init__(self,dogBreed,dogEyeColor):\n",
    "        self.breed = dogBreed       \n",
    "        self.eyeColor = dogEyeColor\n",
    "        \n",
    "    def dogname(self):\n",
    "        return self.breed, self.eyeColor"
   ]
  },
  {
   "cell_type": "code",
   "execution_count": 25,
   "id": "c9f9e9fb-1579-4539-bd2e-bca0fe86d26f",
   "metadata": {},
   "outputs": [],
   "source": [
    "Tommy=Dog(\"German\", \"brown\")"
   ]
  },
  {
   "cell_type": "code",
   "execution_count": 26,
   "id": "110e92de-9c71-4a5d-800a-1cd4b2492d27",
   "metadata": {},
   "outputs": [
    {
     "data": {
      "text/plain": [
       "'German'"
      ]
     },
     "execution_count": 26,
     "metadata": {},
     "output_type": "execute_result"
    }
   ],
   "source": [
    "Tommy.breed"
   ]
  },
  {
   "cell_type": "code",
   "execution_count": 27,
   "id": "730707ee-a345-4f88-9dca-c6297b39316c",
   "metadata": {},
   "outputs": [
    {
     "data": {
      "text/plain": [
       "('German', 'brown')"
      ]
     },
     "execution_count": 27,
     "metadata": {},
     "output_type": "execute_result"
    }
   ],
   "source": [
    "Tommy.dogname()"
   ]
  },
  {
   "cell_type": "code",
   "execution_count": null,
   "id": "a1128c8f-256d-4f8d-939e-9c86da266267",
   "metadata": {},
   "outputs": [],
   "source": []
  },
  {
   "cell_type": "markdown",
   "id": "dfefedf9-f547-4954-985d-cdd6d901fe91",
   "metadata": {},
   "source": [
    "Q 4 self represents the instance of the class. By using the “self” we can access the attributes and methods of the class in python."
   ]
  },
  {
   "cell_type": "code",
   "execution_count": null,
   "id": "50e0dada-3602-41f3-a09c-94d95cd1052b",
   "metadata": {},
   "outputs": [],
   "source": []
  },
  {
   "cell_type": "markdown",
   "id": "5bd0efda-fc4d-4218-9ee6-c9a8275ba3d8",
   "metadata": {},
   "source": [
    "Q 5 Inheritance is the capability of one class to derive or inherit the properties from another class."
   ]
  },
  {
   "cell_type": "markdown",
   "id": "b3642b65-442d-4a07-ae42-bdd6781a0077",
   "metadata": {},
   "source": [
    "Single Inheritance"
   ]
  },
  {
   "cell_type": "code",
   "execution_count": 3,
   "id": "4b80ffef-deba-489c-b04e-1375f7119add",
   "metadata": {},
   "outputs": [
    {
     "name": "stdout",
     "output_type": "stream",
     "text": [
      "this is honda bike\n",
      "this is bajaj bike\n"
     ]
    }
   ],
   "source": [
    "class Vehicle():\n",
    "    def bike1(self):\n",
    "        print(\"this is honda bike\")\n",
    "        \n",
    "#class Vehicle2()\n",
    "        \n",
    "class child(Vehicle):\n",
    "    def bike2(self):\n",
    "        print(\"this is bajaj bike\")\n",
    "        \n",
    "bk1=child()\n",
    "bk1.bike1()\n",
    "bk1.bike2()"
   ]
  },
  {
   "cell_type": "code",
   "execution_count": null,
   "id": "b5e30221-c1fc-4352-944a-13b2188808ea",
   "metadata": {},
   "outputs": [],
   "source": []
  },
  {
   "cell_type": "markdown",
   "id": "45bb4428-5c04-4279-bf8f-fe2f24259692",
   "metadata": {},
   "source": [
    "Multiple Inheritance"
   ]
  },
  {
   "cell_type": "code",
   "execution_count": 5,
   "id": "f8f4ab11-ba47-49d1-b8db-26d4bfbb6fc6",
   "metadata": {},
   "outputs": [
    {
     "name": "stdout",
     "output_type": "stream",
     "text": [
      "this is honda bike\n",
      "this is bajaj bike\n",
      "this is yamaha bike\n"
     ]
    }
   ],
   "source": [
    "class Vehicle():\n",
    "    def bike1(self):\n",
    "        print(\"this is honda bike\")\n",
    "        \n",
    "class Vehicle2():\n",
    "    def bike3(self):\n",
    "        print(\"this is yamaha bike\")\n",
    "        \n",
    "class child(Vehicle,Vehicle2):\n",
    "    def bike2(self):\n",
    "        print(\"this is bajaj bike\")\n",
    "        \n",
    "bk1=child()\n",
    "bk1.bike1()\n",
    "bk1.bike2()\n",
    "bk1.bike3()"
   ]
  },
  {
   "cell_type": "code",
   "execution_count": null,
   "id": "7ce12a5e-3faf-4548-a3e2-7ce2761d270c",
   "metadata": {},
   "outputs": [],
   "source": []
  },
  {
   "cell_type": "markdown",
   "id": "e266f9e2-2f6b-4bd5-954a-e43752a51cb4",
   "metadata": {},
   "source": [
    "Multilevel Inheritance"
   ]
  },
  {
   "cell_type": "code",
   "execution_count": 8,
   "id": "f9ee5acb-063f-46ba-a276-80e34bf32702",
   "metadata": {},
   "outputs": [
    {
     "name": "stdout",
     "output_type": "stream",
     "text": [
      "this is honda bike\n",
      "this is bajaj bike\n",
      "this is yamaha bike\n"
     ]
    }
   ],
   "source": [
    "class Vehicle():\n",
    "    def bike1(self):\n",
    "        print(\"this is honda bike\")\n",
    "        \n",
    "class Vehicle2(Vehicle):\n",
    "    def bike3(self):\n",
    "        print(\"this is yamaha bike\")\n",
    "        \n",
    "class child(Vehicle2):\n",
    "    def bike2(self):\n",
    "        print(\"this is bajaj bike\")\n",
    "        \n",
    "bk1=child()\n",
    "bk1.bike1()\n",
    "bk1.bike2()\n",
    "bk1.bike3()"
   ]
  },
  {
   "cell_type": "code",
   "execution_count": null,
   "id": "3c7a6fcd-0550-496d-afd0-98529a6a2c2d",
   "metadata": {},
   "outputs": [],
   "source": []
  },
  {
   "cell_type": "markdown",
   "id": "98bde96a-df2d-4e01-ae06-089e9d056356",
   "metadata": {},
   "source": [
    "Hierarchical Inheritance"
   ]
  },
  {
   "cell_type": "code",
   "execution_count": 14,
   "id": "03e3538d-f596-4341-8ec5-c3b6f7233505",
   "metadata": {},
   "outputs": [
    {
     "name": "stdout",
     "output_type": "stream",
     "text": [
      "this is honda bike\n",
      "this is bajaj bike\n",
      "this is yamaha bike\n"
     ]
    }
   ],
   "source": [
    "class Vehicle():\n",
    "    def bike1(self):\n",
    "        print(\"this is honda bike\")\n",
    "        \n",
    "class Vehicle2(Vehicle):\n",
    "    def bike3(self):\n",
    "        print(\"this is yamaha bike\")\n",
    "        \n",
    "class child(Vehicle):\n",
    "    def bike2(self):\n",
    "        print(\"this is bajaj bike\")\n",
    "        \n",
    "bk1=child()\n",
    "bk1.bike1()\n",
    "bk1.bike2()\n",
    "bk2=Vehicle2()\n",
    "bk2.bike3()"
   ]
  },
  {
   "cell_type": "code",
   "execution_count": null,
   "id": "4946f3ec-264c-4bac-802e-7a7c05f4df64",
   "metadata": {},
   "outputs": [],
   "source": []
  },
  {
   "cell_type": "code",
   "execution_count": null,
   "id": "c0ef75b7-af11-4ca5-bd15-9a2aef47cd35",
   "metadata": {},
   "outputs": [],
   "source": [
    "Hybrid Inheritance"
   ]
  },
  {
   "cell_type": "code",
   "execution_count": 18,
   "id": "ec042599-8c2a-4817-9c0a-076d79eb278b",
   "metadata": {},
   "outputs": [
    {
     "name": "stdout",
     "output_type": "stream",
     "text": [
      "this is honda bike\n",
      "this is bajaj bike\n",
      "this is yamaha bike\n"
     ]
    }
   ],
   "source": [
    "class Vehicle():\n",
    "    def bike1(self):\n",
    "        print(\"this is honda bike\")\n",
    "        \n",
    "class Vehicle2(Vehicle):\n",
    "    def bike3(self):\n",
    "        print(\"this is yamaha bike\")\n",
    "        \n",
    "class child(Vehicle2, Vehicle):\n",
    "    def bike2(self):\n",
    "        print(\"this is bajaj bike\")\n",
    "        \n",
    "bk1=child()\n",
    "bk1.bike1()\n",
    "bk1.bike2()\n",
    "bk1.bike3()"
   ]
  },
  {
   "cell_type": "code",
   "execution_count": null,
   "id": "f698bb44-4d3f-4a17-8981-85945b657865",
   "metadata": {},
   "outputs": [],
   "source": []
  }
 ],
 "metadata": {
  "kernelspec": {
   "display_name": "Python 3 (ipykernel)",
   "language": "python",
   "name": "python3"
  },
  "language_info": {
   "codemirror_mode": {
    "name": "ipython",
    "version": 3
   },
   "file_extension": ".py",
   "mimetype": "text/x-python",
   "name": "python",
   "nbconvert_exporter": "python",
   "pygments_lexer": "ipython3",
   "version": "3.10.8"
  }
 },
 "nbformat": 4,
 "nbformat_minor": 5
}
