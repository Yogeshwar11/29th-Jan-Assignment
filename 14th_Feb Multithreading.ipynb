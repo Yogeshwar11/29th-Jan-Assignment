{
 "cells": [
  {
   "cell_type": "markdown",
   "id": "2af44e0f-99e6-42ed-b7ff-23e8450d0a93",
   "metadata": {},
   "source": [
    "Q.1 Multithreading is defined as the ability of a processor to execute multiple threads concurrently.\n",
    "\n",
    "It is used to ensure effective utilization of computer system resources.\n",
    "\n",
    "There are two main modules of multithreading used to handle threads in Python.\n",
    "1. The thread module\n",
    "2. The threading module"
   ]
  },
  {
   "cell_type": "code",
   "execution_count": null,
   "id": "e4907202-1486-4540-bf1f-5cda34a71ac5",
   "metadata": {},
   "outputs": [],
   "source": []
  },
  {
   "cell_type": "markdown",
   "id": "ad7abe8d-84b7-46b6-b8ec-96cc2f373346",
   "metadata": {},
   "source": [
    "Q.2 The threading module is a high-level implementation of multithreading used to deploy an application in Python.\n",
    "\n",
    "active_count():- Return the number of Thread objects currently alive. The returned count is equal to the length of the list returned by enumerate().\n",
    "\n",
    "current_thread():- Return the current Thread object, corresponding to the caller’s thread of control. If the caller’s thread of control was not created through the threading module, a dummy thread object with limited functionality is returned.\n",
    "\n",
    "enumerate():-Return a list of all Thread objects currently active. The list includes daemonic threads and dummy thread objects created by current_thread(). It excludes terminated threads and threads that have not yet been started. However, the main thread is always part of the result, even when terminated."
   ]
  },
  {
   "cell_type": "code",
   "execution_count": null,
   "id": "d821eb50-eb88-4531-a962-618740be7869",
   "metadata": {},
   "outputs": [],
   "source": []
  },
  {
   "cell_type": "markdown",
   "id": "87bebea2-aa98-49c9-9095-7989493534f4",
   "metadata": {},
   "source": [
    "Q.3 \n",
    "\n",
    "run():- Method representing the thread’s activity. You may override this method in a subclass. The standard run() method invokes the callable object passed to the object’s constructor as the target argument, if any, with positional and keyword arguments taken from the args and kwargs arguments, respectively.\n",
    "\n",
    "start():- Start the thread’s activity. It must be called at most once per thread object. It arranges for the object’s run() method to be invoked in a separate thread of control.\n",
    "\n",
    "join():- Wait until the thread terminates. This blocks the calling thread until the thread whose join() method is called terminates – either normally or through an unhandled exception – or until the optional timeout occurs.\n",
    "\n",
    "isAlive():- Return whether the thread is alive. This method returns True just before the run() method starts until just after the run() method terminates. The module function enumerate() returns a list of all alive threads."
   ]
  },
  {
   "cell_type": "code",
   "execution_count": null,
   "id": "1db6e931-2319-4fd1-9c6e-e1094264b2f9",
   "metadata": {},
   "outputs": [],
   "source": []
  },
  {
   "cell_type": "markdown",
   "id": "ee6c0b06-bf81-4e44-a6c7-de5db44f4d5d",
   "metadata": {},
   "source": [
    "Q.4"
   ]
  },
  {
   "cell_type": "code",
   "execution_count": 33,
   "id": "3ff0d31c-f779-475c-ae87-92917d80355c",
   "metadata": {},
   "outputs": [
    {
     "name": "stdout",
     "output_type": "stream",
     "text": [
      "[1]\n",
      "[1, 4]\n",
      "[1, 4, 9]\n",
      "[1, 4, 9, 16]\n",
      "[1, 4, 9, 16, 25]\n",
      "[1, 4, 9, 16, 25, 36]\n",
      "[1]\n",
      "[1, 8]\n",
      "[1, 8, 27]\n",
      "[1, 8, 27, 64]\n",
      "[1, 8, 27, 64, 125]\n",
      "[1, 8, 27, 64, 125, 216]\n"
     ]
    }
   ],
   "source": [
    "import threading\n",
    "square_list=[]\n",
    "cube_list=[]\n",
    "num_list=[1,2,3,4,5,6]\n",
    "def square(x):\n",
    "    sqr=x**2\n",
    "    square_list.append(sqr)\n",
    "    print(square_list)\n",
    "    \n",
    "def cube(y):\n",
    "    cub=y**3\n",
    "    cube_list.append(cub)\n",
    "    print(cube_list)\n",
    "    \n",
    "thred1=[threading.Thread(target=square, args=(i,)) for i in num_list]\n",
    "thred2=[threading.Thread(target=cube, args=(i,)) for i in num_list]\n",
    "\n",
    "for t in thred1:\n",
    "    t.start()\n",
    "    \n",
    "for u in thred2:\n",
    "    u.start()"
   ]
  },
  {
   "cell_type": "code",
   "execution_count": 30,
   "id": "8d1a3599-eb4c-4bba-9468-5a52552cc1dd",
   "metadata": {},
   "outputs": [],
   "source": []
  },
  {
   "cell_type": "markdown",
   "id": "66e2558e-9765-47c4-a9e6-13c647c6f096",
   "metadata": {},
   "source": [
    "Q.5\n",
    "\n",
    "Advantages:- \n",
    "1. Enhanced performance by decreased development time.\n",
    "2. Simplified and streamlined program coding\n",
    "3. Improvised GUI responsiveness\n",
    "4. Simultaneous and parallelized occurrence of tasks\n",
    "5. Better use of cache storage by utilization of resources\n",
    "6. Decreased cost of maintenance\n",
    "7. Better use of CPU resource\n",
    "\n",
    "Disadvantages:-\n",
    "1. Complex debugging and testing processes\n",
    "2. Overhead switching of context\n",
    "3. Increased potential for deadlock occurrence\n",
    "4. Increased difficulty level in writing a program\n",
    "5. Unpredictable results"
   ]
  },
  {
   "cell_type": "code",
   "execution_count": null,
   "id": "c2086164-ca62-4490-9c40-1a23026e4b41",
   "metadata": {},
   "outputs": [],
   "source": []
  },
  {
   "cell_type": "markdown",
   "id": "9f84ceeb-1b2d-47bd-b638-26fb98332c64",
   "metadata": {},
   "source": [
    "Q.6 \n",
    "\n",
    "Deadlocks:- When two processes are waiting for each other directly or indirectly, it is called deadlock.\n",
    "This usually occurs when two processes are waiting for shared resources acquired by others. For example, If thread T1 acquired resource R1 and it also needs resource R2 for it to accomplish its task.\n",
    "\n",
    "Race Conditions:-\n",
    "When two processes are competing with each other causing data corruption.\n",
    "For example, if two processes/threads are trying to execute the following conditions simultaneously, they cause data corruption:\n",
    "\n",
    "Thread 1:\n",
    "total = num1 + num2\n",
    "\n",
    "Thread 2:\n",
    "total = num1 - num2"
   ]
  },
  {
   "cell_type": "code",
   "execution_count": null,
   "id": "9b333fa0-bc13-4a97-a110-4dddd2e47a8b",
   "metadata": {},
   "outputs": [],
   "source": []
  }
 ],
 "metadata": {
  "kernelspec": {
   "display_name": "Python 3 (ipykernel)",
   "language": "python",
   "name": "python3"
  },
  "language_info": {
   "codemirror_mode": {
    "name": "ipython",
    "version": 3
   },
   "file_extension": ".py",
   "mimetype": "text/x-python",
   "name": "python",
   "nbconvert_exporter": "python",
   "pygments_lexer": "ipython3",
   "version": "3.10.8"
  }
 },
 "nbformat": 4,
 "nbformat_minor": 5
}
