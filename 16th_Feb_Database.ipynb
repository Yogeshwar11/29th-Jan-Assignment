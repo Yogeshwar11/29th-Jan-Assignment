{
 "cells": [
  {
   "cell_type": "markdown",
   "id": "47b85320-2db6-453f-b1b2-d98329486687",
   "metadata": {},
   "source": [
    "Q.1 A database is an organized collection of data, so that it can be easily accessed and managed."
   ]
  },
  {
   "cell_type": "markdown",
   "id": "73663cd1-a409-4264-a89a-39a2e08d0be5",
   "metadata": {},
   "source": [
    "SQL, which stands for “Structured Query Language,” is the programming language that’s been widely used in managing data in relational database management systems (RDBMS).\n",
    "\n",
    "NoSQL is a non-relational database, meaning it allows different structures than a SQL database (not rows and columns) and more flexibility to use a format that best fits the data."
   ]
  },
  {
   "cell_type": "code",
   "execution_count": null,
   "id": "aed9370e-c4c2-442a-b3c8-3a1aee336da1",
   "metadata": {},
   "outputs": [],
   "source": []
  },
  {
   "cell_type": "markdown",
   "id": "00cb2174-49c4-44ad-aff7-bae59f4c8270",
   "metadata": {},
   "source": [
    "Q.2 DDL or Data Definition Language actually consists of the SQL commands that can be used to define the database schema. It simply deals with descriptions of the database schema and is used to create and modify the structure of database objects in the database. DDL is a set of SQL commands used to create, modify, and delete database structures but not data.\n",
    "\n",
    "CREATE: This command is used to create the database or its objects (like table, index, function, views, store procedure, and triggers).\n",
    "\n",
    "DROP: This command is used to delete objects from the database.\n",
    "\n",
    "ALTER: This is used to alter the structure of the database.\n",
    "\n",
    "TRUNCATE: This is used to remove all records from a table, including all spaces allocated for the records are removed."
   ]
  },
  {
   "cell_type": "markdown",
   "id": "ed11b272-f98c-463d-8822-c18e3743e7fc",
   "metadata": {},
   "source": [
    "CREATE Database Database_Name;  \n",
    "\n",
    "DROP DATABASE Database_Name;  \n",
    "\n",
    "ALTER TABLE Student ADD Father's_Name Varchar(60);\n",
    "\n",
    "TRUNCATE TABLE Table_Name;  "
   ]
  },
  {
   "cell_type": "code",
   "execution_count": null,
   "id": "3e80f0eb-bb2e-49b4-b1e5-21fe983e24b2",
   "metadata": {},
   "outputs": [],
   "source": []
  },
  {
   "cell_type": "markdown",
   "id": "10939910-dc43-4de2-ae10-c19f95da4667",
   "metadata": {},
   "source": [
    "Q.3 The SQL commands that deals with the manipulation of data present in the database belong to DML or Data Manipulation Language and this includes most of the SQL statements. It is the component of the SQL statement that controls access to data and to the database.\n",
    "\n",
    "INSERT : It is used to insert data into a table.\n",
    "\n",
    "UPDATE: It is used to update existing data within a table.\n",
    "\n",
    "DELETE : It is used to delete records from a database table."
   ]
  },
  {
   "cell_type": "markdown",
   "id": "98bf8e0d-faf2-4ea2-9293-bf300f1553d7",
   "metadata": {},
   "source": [
    "SELECT * FROM table_name;  \n",
    "\n",
    "UPDATE Product SET Product_Price = 80 WHERE Product_Id = 'P102' ; \n",
    "\n",
    "DELETE FROM Product WHERE Product_Id = 'P202' ;"
   ]
  },
  {
   "cell_type": "code",
   "execution_count": null,
   "id": "b94cdc42-858c-421f-94e1-56c1b2362c8c",
   "metadata": {},
   "outputs": [],
   "source": []
  },
  {
   "cell_type": "markdown",
   "id": "1a367962-c94c-400a-bba9-9ebff54a1282",
   "metadata": {},
   "source": [
    "Q.4 DQL statements are used for performing queries on the data within schema objects. The purpose of the DQL Command is to get some schema relation based on the query passed to it. We can define DQL as follows it is a component of SQL statement that allows getting data from the database and imposing order upon it.\n",
    "\n",
    "SELECT: It is used to retrieve data from the database."
   ]
  },
  {
   "cell_type": "markdown",
   "id": "c6440d00-e486-4725-bec2-c4c502b51944",
   "metadata": {},
   "source": [
    "SELECT emp_name  \n",
    "FROM employee  \n",
    "WHERE age > 20; "
   ]
  },
  {
   "cell_type": "code",
   "execution_count": null,
   "id": "a5897f43-a6f7-410c-a7ee-625d0c9ec03a",
   "metadata": {},
   "outputs": [],
   "source": []
  },
  {
   "cell_type": "markdown",
   "id": "e9647bff-b694-4745-a934-d27fa511af1e",
   "metadata": {},
   "source": [
    "Q.5 \n",
    "\n",
    "Primary keys:-\n",
    "A primary key is a column or a set of columns in a table whose values uniquely identify a row in the table. A relational database is designed to enforce the uniqueness of primary keys by allowing only one row with a given primary key value in a table.\n",
    "\n",
    "Foreign keys:-\n",
    "A foreign key is a column or a set of columns in a table whose values correspond to the values of the primary key in another table. In order to add a row with a given foreign key value, there must exist a row in the related table with the same primary key value."
   ]
  },
  {
   "cell_type": "code",
   "execution_count": null,
   "id": "ae517bb1-4d96-499d-8a9b-aa7e34e69998",
   "metadata": {},
   "outputs": [],
   "source": []
  },
  {
   "cell_type": "markdown",
   "id": "5a1ce021-b04a-4a88-b6cb-d9e485b3064f",
   "metadata": {},
   "source": [
    "Q.6 \n",
    "\n",
    "import mysql.connector\n",
    "\n",
    "mydb = mysql.connector.connect(\n",
    "\n",
    "  host=\"localhost\",\n",
    "\n",
    "  user=\"abc\",\n",
    "\n",
    "  password=\"password\")\n",
    "\n",
    "mycursor = mydb.cursor()\n",
    "\n",
    "\n",
    "cursor() Method is used to execute statements to communicate with the MySQL database\n",
    "\n",
    "execute() Method executes the given database operation (query or command)."
   ]
  },
  {
   "cell_type": "code",
   "execution_count": null,
   "id": "3d4efd62-7f8b-4bac-8275-f6395391c984",
   "metadata": {},
   "outputs": [],
   "source": []
  },
  {
   "cell_type": "markdown",
   "id": "f26f4b38-baa1-49ef-a7a2-cb001f7282b8",
   "metadata": {},
   "source": [
    "Q.7 \n",
    "FROM clause\n",
    "\n",
    "ON clause\n",
    "\n",
    "OUTER clause\n",
    "\n",
    "WHERE clause\n",
    "\n",
    "GROUP BY clause\n",
    "\n",
    "HAVING clause\n",
    "\n",
    "SELECT clause\n",
    "\n",
    "DISTINCT clause\n",
    "\n",
    "ORDER BY clause\n",
    "\n",
    "TOP clause"
   ]
  },
  {
   "cell_type": "code",
   "execution_count": null,
   "id": "d61bc74d-a177-46ed-878c-39a20927d57e",
   "metadata": {},
   "outputs": [],
   "source": []
  }
 ],
 "metadata": {
  "kernelspec": {
   "display_name": "Python 3 (ipykernel)",
   "language": "python",
   "name": "python3"
  },
  "language_info": {
   "codemirror_mode": {
    "name": "ipython",
    "version": 3
   },
   "file_extension": ".py",
   "mimetype": "text/x-python",
   "name": "python",
   "nbconvert_exporter": "python",
   "pygments_lexer": "ipython3",
   "version": "3.10.8"
  }
 },
 "nbformat": 4,
 "nbformat_minor": 5
}
