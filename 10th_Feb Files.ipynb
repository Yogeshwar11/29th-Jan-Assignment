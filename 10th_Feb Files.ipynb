{
 "cells": [
  {
   "cell_type": "markdown",
   "id": "bbfc8f5e-a811-4c14-87d9-6ed03b0734ec",
   "metadata": {},
   "source": [
    "Q.1 open() function is used to open files in python. \n",
    "In ‘r’ mode, the file opens in the read mode. \n",
    "In the ‘w’ mode, the file opens in write mode. \n",
    "In the ‘a’ mode, the file opens in append mode. \n",
    "In the ‘r+’ mode, the file opens in the read & write mode. \n",
    "In the ‘w+’ mode, open the file in the read & write mode & remove existing content. \n",
    "In the ‘a+’ mode, the file opens in the read & append mode."
   ]
  },
  {
   "cell_type": "code",
   "execution_count": null,
   "id": "2339fd59-bfbe-4664-9418-36f10e039ee5",
   "metadata": {},
   "outputs": [],
   "source": []
  },
  {
   "cell_type": "markdown",
   "id": "58522c40-0523-49cf-8568-548b0e754862",
   "metadata": {},
   "source": [
    "Q.2 close() function is used to close the file. It’s important to close files in Python because files are limited resources managed by the operating system, making sure files are closed after use will protect against hard-to-debug issues like running out of file handles or experiencing corrupted data."
   ]
  },
  {
   "cell_type": "code",
   "execution_count": null,
   "id": "5d744d73-ca42-4b4b-9edf-d74723f3f523",
   "metadata": {},
   "outputs": [],
   "source": []
  },
  {
   "cell_type": "markdown",
   "id": "e189c42a-90cf-467e-a2a7-3f629d13ad4e",
   "metadata": {},
   "source": [
    "Q.3 "
   ]
  },
  {
   "cell_type": "code",
   "execution_count": 3,
   "id": "47714f9b-5164-42a8-b0bd-53094ccbb676",
   "metadata": {},
   "outputs": [],
   "source": [
    "data=open(\"abc.txt\", \"w+\")"
   ]
  },
  {
   "cell_type": "code",
   "execution_count": 4,
   "id": "3fb1a611-ddef-4f7f-aac6-bf1a4bf7c68e",
   "metadata": {},
   "outputs": [
    {
     "data": {
      "text/plain": [
       "33"
      ]
     },
     "execution_count": 4,
     "metadata": {},
     "output_type": "execute_result"
    }
   ],
   "source": [
    "data.write(\"I want to become a Data Scientist\")"
   ]
  },
  {
   "cell_type": "code",
   "execution_count": 5,
   "id": "4ee2c80d-83a3-4cb3-8f92-4ee791bfff91",
   "metadata": {},
   "outputs": [],
   "source": [
    "data.close()"
   ]
  },
  {
   "cell_type": "code",
   "execution_count": 6,
   "id": "4675f85d-103e-4503-8efe-471221737c90",
   "metadata": {},
   "outputs": [],
   "source": [
    "data1=open(\"abc.txt\", \"r\")"
   ]
  },
  {
   "cell_type": "code",
   "execution_count": 7,
   "id": "2ef85b97-9372-47e4-8be6-bee519785f20",
   "metadata": {},
   "outputs": [
    {
     "data": {
      "text/plain": [
       "'I want to become a Data Scientist'"
      ]
     },
     "execution_count": 7,
     "metadata": {},
     "output_type": "execute_result"
    }
   ],
   "source": [
    "data1.read()"
   ]
  },
  {
   "cell_type": "code",
   "execution_count": null,
   "id": "85a36497-714c-414c-9e83-a73af002decf",
   "metadata": {},
   "outputs": [],
   "source": []
  },
  {
   "cell_type": "markdown",
   "id": "7bcd603c-50e8-49d1-8afe-98bdf7d0b387",
   "metadata": {},
   "source": [
    "Q.4 "
   ]
  },
  {
   "cell_type": "markdown",
   "id": "822353b6-fe5b-4c5d-99ad-9bb5b57eec9a",
   "metadata": {},
   "source": [
    "read() Returns the file content"
   ]
  },
  {
   "cell_type": "code",
   "execution_count": 2,
   "id": "c60bf176-6508-4360-949a-1a3d59e018c1",
   "metadata": {},
   "outputs": [
    {
     "data": {
      "text/plain": [
       "'I want to become a Data Scientist'"
      ]
     },
     "execution_count": 2,
     "metadata": {},
     "output_type": "execute_result"
    }
   ],
   "source": [
    "data1=open(\"abc.txt\", \"r\")\n",
    "data1.read()"
   ]
  },
  {
   "cell_type": "markdown",
   "id": "5cac976e-4b77-4490-a175-7eba4b7df234",
   "metadata": {},
   "source": [
    "readline()\tReturns one line from the file"
   ]
  },
  {
   "cell_type": "code",
   "execution_count": 18,
   "id": "447407f4-9ce4-46bd-9e94-3b87e848f704",
   "metadata": {},
   "outputs": [
    {
     "data": {
      "text/plain": [
       "164"
      ]
     },
     "execution_count": 18,
     "metadata": {},
     "output_type": "execute_result"
    }
   ],
   "source": [
    "data2=open(\"xyz.txt\", 'a')\n",
    "data2.write(\"A simple paragraph is the first element taught in writing.It is an independent entity, without any connection to any other topic, though.\\n\")\n",
    "data2.write(\"While reading or writing to a file, access mode governs the type of operations possible in the opened file. It refers to how the file will be used once it’s opened.\")"
   ]
  },
  {
   "cell_type": "code",
   "execution_count": 32,
   "id": "6ac213f5-2ead-4efe-9806-58f9708576c7",
   "metadata": {},
   "outputs": [
    {
     "data": {
      "text/plain": [
       "'A simple paragraph is the first element taught in writing.A simple paragraph is the first element taught in writing.It is an independent entity, without any connection to any other topic, though.A simple paragraph is the first element taught in writing.It is an independent entity, without any connection to any other topic, though.A simple paragraph is the first element taught in writing.It is an independent entity, without any connection to any other topic, though.\\n'"
      ]
     },
     "execution_count": 32,
     "metadata": {},
     "output_type": "execute_result"
    }
   ],
   "source": [
    "data3=open(\"xyz.txt\", 'r')\n",
    "data3.readline()"
   ]
  },
  {
   "cell_type": "code",
   "execution_count": 33,
   "id": "a27ed537-d8e2-480c-8c63-d3db1f2c1ec6",
   "metadata": {},
   "outputs": [],
   "source": [
    "data3.close()"
   ]
  },
  {
   "cell_type": "markdown",
   "id": "61fc7fa5-98d7-40e2-8e7e-e4a9e06b2d6a",
   "metadata": {},
   "source": [
    "readlines()\tReturns a list of lines from the file"
   ]
  },
  {
   "cell_type": "code",
   "execution_count": 34,
   "id": "2cfee1d7-c517-4298-aaf2-03c504998c72",
   "metadata": {},
   "outputs": [
    {
     "data": {
      "text/plain": [
       "['A simple paragraph is the first element taught in writing.A simple paragraph is the first element taught in writing.It is an independent entity, without any connection to any other topic, though.A simple paragraph is the first element taught in writing.It is an independent entity, without any connection to any other topic, though.A simple paragraph is the first element taught in writing.It is an independent entity, without any connection to any other topic, though.\\n',\n",
       " 'While reading or writing to a file, access mode governs the type of operations possible in the opened file. It refers to how the file will be used once it’s opened.']"
      ]
     },
     "execution_count": 34,
     "metadata": {},
     "output_type": "execute_result"
    }
   ],
   "source": [
    "data3=open(\"xyz.txt\", 'r')\n",
    "data3.readlines()"
   ]
  },
  {
   "cell_type": "code",
   "execution_count": null,
   "id": "bbdc68c7-9682-48c7-a216-af822226d65c",
   "metadata": {},
   "outputs": [],
   "source": []
  },
  {
   "cell_type": "markdown",
   "id": "726b6d92-411f-4bd7-bd0e-64547716c373",
   "metadata": {},
   "source": [
    "Q 5 The with statement simplifies exception handling by encapsulating common preparation and cleanup tasks.\n",
    "\n",
    "In addition, it will automatically close the file. The with statement provides a way for ensuring that a clean-up is always used."
   ]
  },
  {
   "cell_type": "code",
   "execution_count": null,
   "id": "b210765a-5297-4d53-8332-05d5659ce751",
   "metadata": {},
   "outputs": [],
   "source": []
  },
  {
   "cell_type": "markdown",
   "id": "315986f6-4b50-4086-9714-2cf472dfc7a5",
   "metadata": {},
   "source": [
    "Q 6          write()\tWrites the specified string to the file"
   ]
  },
  {
   "cell_type": "code",
   "execution_count": 51,
   "id": "829b3a6b-11d6-4964-8089-49a267293815",
   "metadata": {},
   "outputs": [
    {
     "data": {
      "text/plain": [
       "24"
      ]
     },
     "execution_count": 51,
     "metadata": {},
     "output_type": "execute_result"
    }
   ],
   "source": [
    "data4=open(\"ynd.txt\", 'w')\n",
    "data4.write(\"I am Mechanical Engineer\")"
   ]
  },
  {
   "cell_type": "code",
   "execution_count": 52,
   "id": "3d18fea1-23be-4a13-af84-e13feaa91d09",
   "metadata": {},
   "outputs": [
    {
     "data": {
      "text/plain": [
       "'I am Mechanical Engineer'"
      ]
     },
     "execution_count": 52,
     "metadata": {},
     "output_type": "execute_result"
    }
   ],
   "source": [
    "data5=open(\"ynd.txt\", 'r')\n",
    "data5.read()"
   ]
  },
  {
   "cell_type": "markdown",
   "id": "579829dd-a64e-4ebc-bd5f-e0c56c193f92",
   "metadata": {},
   "source": [
    "writelines()\tWrites a list of strings to the file"
   ]
  },
  {
   "cell_type": "code",
   "execution_count": 55,
   "id": "0e3d039a-5bfd-4ea7-a0d7-d6b24ba77761",
   "metadata": {},
   "outputs": [],
   "source": [
    "data6=open(\"def.txt\", 'a')\n",
    "a= \"I \"\n",
    "b= \"wanted \"\n",
    "c=\"to be \"\n",
    "d=\"a data scientist.\"\n",
    "full_string=[a , b, c, d]\n",
    "data6.writelines(full_string)\n",
    "data6.close()"
   ]
  },
  {
   "cell_type": "code",
   "execution_count": 56,
   "id": "e4571a69-f7b3-42ee-901d-86584563d40f",
   "metadata": {},
   "outputs": [
    {
     "data": {
      "text/plain": [
       "'I wanted to be a data scientist.'"
      ]
     },
     "execution_count": 56,
     "metadata": {},
     "output_type": "execute_result"
    }
   ],
   "source": [
    "data7=open(\"def.txt\", 'r')\n",
    "data7.read()"
   ]
  },
  {
   "cell_type": "code",
   "execution_count": null,
   "id": "6b052b32-23ab-4f4d-9cd2-07c53bceefc2",
   "metadata": {},
   "outputs": [],
   "source": []
  }
 ],
 "metadata": {
  "kernelspec": {
   "display_name": "Python 3 (ipykernel)",
   "language": "python",
   "name": "python3"
  },
  "language_info": {
   "codemirror_mode": {
    "name": "ipython",
    "version": 3
   },
   "file_extension": ".py",
   "mimetype": "text/x-python",
   "name": "python",
   "nbconvert_exporter": "python",
   "pygments_lexer": "ipython3",
   "version": "3.10.8"
  }
 },
 "nbformat": 4,
 "nbformat_minor": 5
}
