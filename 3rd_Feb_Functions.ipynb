{
 "cells": [
  {
   "cell_type": "markdown",
   "id": "a8074051-a164-40a0-972b-949d08165b73",
   "metadata": {},
   "source": [
    "Q.1 \n",
    "\"def\" keyword is used to create function."
   ]
  },
  {
   "cell_type": "code",
   "execution_count": 7,
   "id": "6d353965-6d58-4230-bc01-7a87e0e5e3cb",
   "metadata": {},
   "outputs": [],
   "source": [
    "def test():\n",
    "    n=[]\n",
    "    for i in range(1,25):\n",
    "        if(i%2!=0):\n",
    "            n.append(i)\n",
    "    return n"
   ]
  },
  {
   "cell_type": "code",
   "execution_count": 8,
   "id": "96e4a7f4-547d-457d-9aa1-ffb1b26d4bbf",
   "metadata": {},
   "outputs": [
    {
     "data": {
      "text/plain": [
       "[1, 3, 5, 7, 9, 11, 13, 15, 17, 19, 21, 23]"
      ]
     },
     "execution_count": 8,
     "metadata": {},
     "output_type": "execute_result"
    }
   ],
   "source": [
    "test()"
   ]
  },
  {
   "cell_type": "code",
   "execution_count": null,
   "id": "815f379a-8758-4d41-8e49-9a87ac8ef482",
   "metadata": {},
   "outputs": [],
   "source": []
  },
  {
   "cell_type": "markdown",
   "id": "eaf17c7f-03a9-476d-8f3f-2c572c6e6724",
   "metadata": {},
   "source": [
    "Q.2 *args is used to pass a variable number of arguments to a function"
   ]
  },
  {
   "cell_type": "markdown",
   "id": "b3ccc436-9959-4064-a93a-6c6082ed4581",
   "metadata": {},
   "source": [
    "**kwargs is used to pass a keyworded, variable-length argument list."
   ]
  },
  {
   "cell_type": "code",
   "execution_count": 9,
   "id": "4b2f0be6-0409-411d-a0db-42d65c372778",
   "metadata": {},
   "outputs": [],
   "source": [
    "def fun(*args):\n",
    "    n=[]\n",
    "    for i in args:\n",
    "        if i%2==0:\n",
    "            n.append(i)\n",
    "    return n\n",
    "            "
   ]
  },
  {
   "cell_type": "code",
   "execution_count": 10,
   "id": "802b9699-442f-47f8-a4ba-c597463eec44",
   "metadata": {},
   "outputs": [
    {
     "data": {
      "text/plain": [
       "[2, 4, 6, 6, 6, 8, 0, 10, 14]"
      ]
     },
     "execution_count": 10,
     "metadata": {},
     "output_type": "execute_result"
    }
   ],
   "source": [
    "fun(1,2,3,4,5,5,6,6,6,7,8,9,0,10,11,14)"
   ]
  },
  {
   "cell_type": "code",
   "execution_count": 11,
   "id": "9360c501-cfef-46fc-b08e-0fcbd679eaa6",
   "metadata": {},
   "outputs": [],
   "source": [
    "def fun(**kwargs):\n",
    "    for i in kwargs.keys():\n",
    "        if type(kwargs[i] ) == list :\n",
    "            return i , kwargs[i]"
   ]
  },
  {
   "cell_type": "code",
   "execution_count": 13,
   "id": "7a99db90-51d2-48da-8d25-b32101693b85",
   "metadata": {},
   "outputs": [
    {
     "data": {
      "text/plain": [
       "('c', [1, 2, 3, 4])"
      ]
     },
     "execution_count": 13,
     "metadata": {},
     "output_type": "execute_result"
    }
   ],
   "source": [
    "fun(a=2,b=3,c=[1,2,3,4],d=('Yogeshwar','Deshmukh'))"
   ]
  },
  {
   "cell_type": "code",
   "execution_count": null,
   "id": "111b202c-a4e1-47c0-a164-191c7fb941bc",
   "metadata": {},
   "outputs": [],
   "source": []
  },
  {
   "cell_type": "markdown",
   "id": "b700c124-3ff2-4797-805c-62a416a7ec76",
   "metadata": {},
   "source": [
    "Q.3 Iterator in Python is an object that is used to iterate over iterable objects like lists, tuples, dicts, and sets."
   ]
  },
  {
   "cell_type": "markdown",
   "id": "168f802b-bf5f-42b2-bdce-dc5b782d4046",
   "metadata": {},
   "source": [
    "The iterator object is initialized using the iter() method"
   ]
  },
  {
   "cell_type": "markdown",
   "id": "4f4ed747-3d48-4f10-85f8-ea18e6711b77",
   "metadata": {},
   "source": [
    "The next() method returns the next item from the iterator"
   ]
  },
  {
   "cell_type": "code",
   "execution_count": 8,
   "id": "fb00788f-613d-4f74-ad81-bb1b421dcd83",
   "metadata": {},
   "outputs": [
    {
     "name": "stdout",
     "output_type": "stream",
     "text": [
      "2\n",
      "4\n",
      "6\n",
      "8\n",
      "10\n"
     ]
    }
   ],
   "source": [
    "list=[2, 4, 6, 8, 10, 12, 14, 16, 18, 20]\n",
    "for i in list:\n",
    "    if i>list[4]:\n",
    "        break\n",
    "    print(i)"
   ]
  },
  {
   "cell_type": "code",
   "execution_count": null,
   "id": "b38716b2-d2dc-4b53-b633-0136dfc4b5ba",
   "metadata": {},
   "outputs": [],
   "source": []
  },
  {
   "cell_type": "markdown",
   "id": "6c758396-7518-4661-a9f5-0483833f1515",
   "metadata": {},
   "source": [
    "Q.4 A generator is a function that returns an iterator that produces a sequence of values when iterated over."
   ]
  },
  {
   "cell_type": "markdown",
   "id": "c5101725-028c-4fb6-b07f-16d228b5f830",
   "metadata": {},
   "source": [
    "Yield statement of a function returns a generator object"
   ]
  },
  {
   "cell_type": "code",
   "execution_count": 16,
   "id": "3d662cc8-1b49-4c49-8bf4-43fdd20848b1",
   "metadata": {},
   "outputs": [],
   "source": [
    "def evennum():  \n",
    "    for i in range(1,41):\n",
    "        if(i%4==0):  \n",
    "            yield i"
   ]
  },
  {
   "cell_type": "code",
   "execution_count": 17,
   "id": "c2aee14f-a239-44cb-9cd0-b05e6795a5f2",
   "metadata": {},
   "outputs": [
    {
     "name": "stdout",
     "output_type": "stream",
     "text": [
      "4\n",
      "8\n",
      "12\n",
      "16\n",
      "20\n",
      "24\n",
      "28\n",
      "32\n",
      "36\n",
      "40\n"
     ]
    }
   ],
   "source": [
    "for i in evennum():\n",
    "    print(i)"
   ]
  },
  {
   "cell_type": "code",
   "execution_count": null,
   "id": "9b791f97-f812-44d2-b7e1-2ce631a3ce0c",
   "metadata": {},
   "outputs": [],
   "source": []
  },
  {
   "cell_type": "markdown",
   "id": "8a1a69a1-d5a7-4613-b919-aa615d42a4bc",
   "metadata": {},
   "source": [
    "Q.5"
   ]
  },
  {
   "cell_type": "code",
   "execution_count": 22,
   "id": "268cedca-803a-4835-8ac8-4d19660694f1",
   "metadata": {},
   "outputs": [],
   "source": [
    "def primenumber():\n",
    "    for num in range(0,1000):\n",
    "        if num > 1:\n",
    "            for i in range(2, num):\n",
    "                if (num % i) == 0:\n",
    "                    break\n",
    "            else:\n",
    "                yield num"
   ]
  },
  {
   "cell_type": "code",
   "execution_count": 23,
   "id": "d364bc7a-1657-4b25-8a26-97b7d2e903d1",
   "metadata": {},
   "outputs": [
    {
     "name": "stdout",
     "output_type": "stream",
     "text": [
      "2\n",
      "3\n",
      "5\n",
      "7\n",
      "11\n",
      "13\n",
      "17\n",
      "19\n",
      "23\n",
      "29\n",
      "31\n",
      "37\n",
      "41\n",
      "43\n",
      "47\n",
      "53\n",
      "59\n",
      "61\n",
      "67\n",
      "71\n",
      "73\n",
      "79\n",
      "83\n",
      "89\n",
      "97\n",
      "101\n",
      "103\n",
      "107\n",
      "109\n",
      "113\n",
      "127\n",
      "131\n",
      "137\n",
      "139\n",
      "149\n",
      "151\n",
      "157\n",
      "163\n",
      "167\n",
      "173\n",
      "179\n",
      "181\n",
      "191\n",
      "193\n",
      "197\n",
      "199\n",
      "211\n",
      "223\n",
      "227\n",
      "229\n",
      "233\n",
      "239\n",
      "241\n",
      "251\n",
      "257\n",
      "263\n",
      "269\n",
      "271\n",
      "277\n",
      "281\n",
      "283\n",
      "293\n",
      "307\n",
      "311\n",
      "313\n",
      "317\n",
      "331\n",
      "337\n",
      "347\n",
      "349\n",
      "353\n",
      "359\n",
      "367\n",
      "373\n",
      "379\n",
      "383\n",
      "389\n",
      "397\n",
      "401\n",
      "409\n",
      "419\n",
      "421\n",
      "431\n",
      "433\n",
      "439\n",
      "443\n",
      "449\n",
      "457\n",
      "461\n",
      "463\n",
      "467\n",
      "479\n",
      "487\n",
      "491\n",
      "499\n",
      "503\n",
      "509\n",
      "521\n",
      "523\n",
      "541\n",
      "547\n",
      "557\n",
      "563\n",
      "569\n",
      "571\n",
      "577\n",
      "587\n",
      "593\n",
      "599\n",
      "601\n",
      "607\n",
      "613\n",
      "617\n",
      "619\n",
      "631\n",
      "641\n",
      "643\n",
      "647\n",
      "653\n",
      "659\n",
      "661\n",
      "673\n",
      "677\n",
      "683\n",
      "691\n",
      "701\n",
      "709\n",
      "719\n",
      "727\n",
      "733\n",
      "739\n",
      "743\n",
      "751\n",
      "757\n",
      "761\n",
      "769\n",
      "773\n",
      "787\n",
      "797\n",
      "809\n",
      "811\n",
      "821\n",
      "823\n",
      "827\n",
      "829\n",
      "839\n",
      "853\n",
      "857\n",
      "859\n",
      "863\n",
      "877\n",
      "881\n",
      "883\n",
      "887\n",
      "907\n",
      "911\n",
      "919\n",
      "929\n",
      "937\n",
      "941\n",
      "947\n",
      "953\n",
      "967\n",
      "971\n",
      "977\n",
      "983\n",
      "991\n",
      "997\n"
     ]
    }
   ],
   "source": [
    "for i in primenumber():\n",
    "    print(i)"
   ]
  },
  {
   "cell_type": "code",
   "execution_count": 35,
   "id": "95ce61c8-c1d1-4d88-88a8-892d837922dd",
   "metadata": {},
   "outputs": [
    {
     "name": "stdout",
     "output_type": "stream",
     "text": [
      "2\n",
      "3\n",
      "5\n",
      "7\n",
      "11\n",
      "13\n",
      "17\n",
      "19\n",
      "23\n",
      "29\n",
      "31\n",
      "37\n",
      "41\n",
      "43\n",
      "47\n",
      "53\n",
      "59\n",
      "61\n",
      "67\n",
      "71\n"
     ]
    }
   ],
   "source": [
    "prime=iter(primenumber())\n",
    "for i in range(20):\n",
    "    print(next(prime))"
   ]
  },
  {
   "cell_type": "code",
   "execution_count": null,
   "id": "555eebcf-f957-4279-bc4f-968efd5307a1",
   "metadata": {},
   "outputs": [],
   "source": []
  }
 ],
 "metadata": {
  "kernelspec": {
   "display_name": "Python 3 (ipykernel)",
   "language": "python",
   "name": "python3"
  },
  "language_info": {
   "codemirror_mode": {
    "name": "ipython",
    "version": 3
   },
   "file_extension": ".py",
   "mimetype": "text/x-python",
   "name": "python",
   "nbconvert_exporter": "python",
   "pygments_lexer": "ipython3",
   "version": "3.10.8"
  }
 },
 "nbformat": 4,
 "nbformat_minor": 5
}
