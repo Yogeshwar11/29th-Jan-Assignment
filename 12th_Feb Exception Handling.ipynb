{
 "cells": [
  {
   "cell_type": "markdown",
   "id": "893b98dd-de27-40ed-b57a-21abf60a5738",
   "metadata": {},
   "source": [
    "Q 1  An exception is an event, which occurs during the execution of a program that disrupts the normal flow of the program's instructions.\n",
    "\n",
    "A syntax error occurs when the structure of a program does not conform to the rules of the programming language. Syntax errors are usually detected by the compiler or interpreter when the program is being compiled or executed, and they prevent the program from running. Syntax errors are usually caused by mistakes in the source code, such as typos, omissions, or incorrect use of syntax.\n",
    "\n",
    "An exception is an abnormal event that occurs during the execution of a program. Exceptions are usually caused by runtime errors, such as dividing by zero, trying to access an element in an array with an out-of-bounds index, or trying to access a file that does not exist. Exceptions are not syntax errors, but they can still prevent the program from running if they are not handled properly."
   ]
  },
  {
   "cell_type": "code",
   "execution_count": null,
   "id": "14b77a32-a25c-4bef-91ac-f2cebccd5400",
   "metadata": {},
   "outputs": [],
   "source": []
  },
  {
   "cell_type": "markdown",
   "id": "aec00a7d-f4af-4776-b23a-d8cd72da5b8c",
   "metadata": {},
   "source": [
    "Q 2 When an exception is not handled it will throw error. No further statements in the current block of code are executed."
   ]
  },
  {
   "cell_type": "code",
   "execution_count": 1,
   "id": "7ab092fc-be32-46dd-bf9c-40ff440d34c3",
   "metadata": {},
   "outputs": [
    {
     "ename": "ZeroDivisionError",
     "evalue": "division by zero",
     "output_type": "error",
     "traceback": [
      "\u001b[0;31m---------------------------------------------------------------------------\u001b[0m",
      "\u001b[0;31mZeroDivisionError\u001b[0m                         Traceback (most recent call last)",
      "Cell \u001b[0;32mIn[1], line 3\u001b[0m\n\u001b[1;32m      1\u001b[0m a\u001b[38;5;241m=\u001b[39m\u001b[38;5;241m10\u001b[39m\n\u001b[1;32m      2\u001b[0m b\u001b[38;5;241m=\u001b[39m\u001b[38;5;241m0\u001b[39m\n\u001b[0;32m----> 3\u001b[0m c\u001b[38;5;241m=\u001b[39m\u001b[43ma\u001b[49m\u001b[38;5;241;43m/\u001b[39;49m\u001b[43mb\u001b[49m\n",
      "\u001b[0;31mZeroDivisionError\u001b[0m: division by zero"
     ]
    }
   ],
   "source": [
    "a=10\n",
    "b=0\n",
    "c=a/b"
   ]
  },
  {
   "cell_type": "code",
   "execution_count": null,
   "id": "d116a114-ab30-4626-bd04-9b03e81f9cdd",
   "metadata": {},
   "outputs": [],
   "source": []
  },
  {
   "cell_type": "markdown",
   "id": "1b314f11-9501-4c88-83ff-7273e51167f9",
   "metadata": {},
   "source": [
    "Q.3 The try and except block in Python is used to catch and handle exceptions."
   ]
  },
  {
   "cell_type": "code",
   "execution_count": 4,
   "id": "ed6438da-06ce-4401-8af8-748b16e22da0",
   "metadata": {},
   "outputs": [
    {
     "name": "stdout",
     "output_type": "stream",
     "text": [
      "Error message:- division by zero\n"
     ]
    }
   ],
   "source": [
    "a=10\n",
    "b=0\n",
    "try:\n",
    "    c=a/b\n",
    "    print(c)\n",
    "except Exception as e:\n",
    "    print(\"Error message:-\",e)"
   ]
  },
  {
   "cell_type": "code",
   "execution_count": null,
   "id": "fe3358be-2dcf-4496-b7ce-29196c68d0d7",
   "metadata": {},
   "outputs": [],
   "source": []
  },
  {
   "cell_type": "markdown",
   "id": "d0413265-72f4-46bf-90a1-3a85df405a9e",
   "metadata": {},
   "source": [
    "Q.4 The try block lets you test a block of code for errors.\n",
    "\n",
    "The else block lets you execute code when there is no error.\n",
    "\n",
    "The raise keyword raises an error and stops the control flow of the program. It is used to bring up the current exception in an exception handler so that it can be handled further up the call stack."
   ]
  },
  {
   "cell_type": "code",
   "execution_count": 10,
   "id": "bf3ca628-befc-4b71-b64d-6d6dfe25fcef",
   "metadata": {},
   "outputs": [
    {
     "name": "stdout",
     "output_type": "stream",
     "text": [
      "Yeah ! Your answer is : 1\n",
      "This is always executed\n",
      "Sorry ! You are dividing by zero \n",
      "This is always executed\n"
     ]
    }
   ],
   "source": [
    "def divide(x, y):\n",
    "    try:\n",
    "        result = x//y\n",
    "    except ZeroDivisionError:\n",
    "        print(\"Sorry ! You are dividing by zero \")\n",
    "    else:\n",
    "        print(\"Yeah ! Your answer is :\", result)\n",
    "    finally: \n",
    "        print('This is always executed')\n",
    "        \n",
    "divide(3,2)\n",
    "divide(3,0)"
   ]
  },
  {
   "cell_type": "code",
   "execution_count": 5,
   "id": "7c2177b6-f452-47f5-8925-704e5ab08216",
   "metadata": {},
   "outputs": [
    {
     "ename": "Exception",
     "evalue": "The number shouldn't be an odd integer",
     "output_type": "error",
     "traceback": [
      "\u001b[0;31m---------------------------------------------------------------------------\u001b[0m",
      "\u001b[0;31mException\u001b[0m                                 Traceback (most recent call last)",
      "Cell \u001b[0;32mIn[5], line 4\u001b[0m\n\u001b[1;32m      1\u001b[0m a \u001b[38;5;241m=\u001b[39m \u001b[38;5;241m5\u001b[39m\n\u001b[1;32m      3\u001b[0m \u001b[38;5;28;01mif\u001b[39;00m a \u001b[38;5;241m%\u001b[39m \u001b[38;5;241m2\u001b[39m \u001b[38;5;241m!=\u001b[39m \u001b[38;5;241m0\u001b[39m:\n\u001b[0;32m----> 4\u001b[0m     \u001b[38;5;28;01mraise\u001b[39;00m \u001b[38;5;167;01mException\u001b[39;00m(\u001b[38;5;124m\"\u001b[39m\u001b[38;5;124mThe number shouldn\u001b[39m\u001b[38;5;124m'\u001b[39m\u001b[38;5;124mt be an odd integer\u001b[39m\u001b[38;5;124m\"\u001b[39m)\n",
      "\u001b[0;31mException\u001b[0m: The number shouldn't be an odd integer"
     ]
    }
   ],
   "source": [
    "a = 5\n",
    "  \n",
    "if a % 2 != 0:\n",
    "    raise Exception(\"The number shouldn't be an odd integer\")"
   ]
  },
  {
   "cell_type": "code",
   "execution_count": null,
   "id": "b09e9994-4a6d-4ea4-ba77-4ca01beae771",
   "metadata": {},
   "outputs": [],
   "source": []
  },
  {
   "cell_type": "markdown",
   "id": "713683c7-40fd-4ce9-b5fa-a03a48393c6d",
   "metadata": {},
   "source": [
    "Q.5 CustomError is a user-defined error which inherits from the Exception class.\n",
    "\n",
    "Custom exceptions will add information about project-related problems, that's why we need custom exceptions."
   ]
  },
  {
   "cell_type": "code",
   "execution_count": 10,
   "id": "490457fb-9627-41bc-b266-53b108731087",
   "metadata": {},
   "outputs": [
    {
     "name": "stdin",
     "output_type": "stream",
     "text": [
      "Enter a number:  16\n"
     ]
    },
    {
     "name": "stdout",
     "output_type": "stream",
     "text": [
      "Exception occurred: Invalid Age\n"
     ]
    }
   ],
   "source": [
    "class InvalidAgeException(Exception):\n",
    "    \"Raised when the input value is less than 18\"\n",
    "    pass\n",
    "\n",
    "number = 18\n",
    "\n",
    "try:\n",
    "    input_num = int(input(\"Enter a number: \"))\n",
    "    if input_num < number:\n",
    "        raise InvalidAgeException\n",
    "    else:\n",
    "        print(\"Eligible to Vote\")\n",
    "        \n",
    "except InvalidAgeException:\n",
    "    print(\"Exception occurred: Invalid Age\")"
   ]
  },
  {
   "cell_type": "code",
   "execution_count": null,
   "id": "4d944ff0-3632-4cd2-908f-e8b193104880",
   "metadata": {},
   "outputs": [],
   "source": []
  },
  {
   "cell_type": "markdown",
   "id": "f3f44acc-7e31-44d0-82b4-540c10f723b1",
   "metadata": {},
   "source": [
    "Q.6"
   ]
  },
  {
   "cell_type": "code",
   "execution_count": 11,
   "id": "e113df36-9b38-4b3a-8fc9-85abd26ad8ad",
   "metadata": {},
   "outputs": [
    {
     "name": "stdin",
     "output_type": "stream",
     "text": [
      "Enter a temperature in Fahrenheit: 31\n"
     ]
    },
    {
     "name": "stdout",
     "output_type": "stream",
     "text": [
      "The 31.0 is not in a valid range (32, 212)\n"
     ]
    }
   ],
   "source": [
    "class FahrenheitError(Exception):\n",
    "    min_f = 32\n",
    "    max_f = 212\n",
    "\n",
    "    def __init__(self, f, *args):\n",
    "        super().__init__(args)\n",
    "        self.f = f\n",
    "\n",
    "    def __str__(self):\n",
    "        return f'The {self.f} is not in a valid range {self.min_f, self.max_f}'\n",
    "\n",
    "\n",
    "def fahrenheit_to_celsius(f: float) -> float:\n",
    "    if f < FahrenheitError.min_f or f > FahrenheitError.max_f:\n",
    "        raise FahrenheitError(f)\n",
    "\n",
    "    return (f - 32) * 5 / 9\n",
    "\n",
    "\n",
    "if __name__ == '__main__':\n",
    "    f = input('Enter a temperature in Fahrenheit:')\n",
    "    try:\n",
    "        f = float(f)\n",
    "    except ValueError as ex:\n",
    "        print(ex)\n",
    "    else:\n",
    "        try:\n",
    "            c = fahrenheit_to_celsius(float(f))\n",
    "        except FahrenheitError as ex:\n",
    "            print(ex)\n",
    "        else:\n",
    "            print(f'{f} Fahrenheit = {c:.4f} Celsius')"
   ]
  },
  {
   "cell_type": "code",
   "execution_count": null,
   "id": "3f903f2a-e321-4bbb-92ed-35b1978241c1",
   "metadata": {},
   "outputs": [],
   "source": []
  }
 ],
 "metadata": {
  "kernelspec": {
   "display_name": "Python 3 (ipykernel)",
   "language": "python",
   "name": "python3"
  },
  "language_info": {
   "codemirror_mode": {
    "name": "ipython",
    "version": 3
   },
   "file_extension": ".py",
   "mimetype": "text/x-python",
   "name": "python",
   "nbconvert_exporter": "python",
   "pygments_lexer": "ipython3",
   "version": "3.10.8"
  }
 },
 "nbformat": 4,
 "nbformat_minor": 5
}
