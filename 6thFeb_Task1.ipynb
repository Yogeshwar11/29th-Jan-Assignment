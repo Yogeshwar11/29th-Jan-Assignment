{
 "cells": [
  {
   "cell_type": "markdown",
   "id": "ee68255b-8ee6-4a4f-8ac3-3b4fc23070f1",
   "metadata": {},
   "source": [
    "Q.1"
   ]
  },
  {
   "cell_type": "code",
   "execution_count": 39,
   "id": "56c064e0-77df-488a-9a51-f32e02b47657",
   "metadata": {},
   "outputs": [
    {
     "name": "stdout",
     "output_type": "stream",
     "text": [
      "[1, 2, 3, 4, 44, 55, 66, 34, 56, 78, 89, 34, 1, 2, 3, 1, 34, 55, 67, 78, 89, 4, 45, 22, 61, 34, 56]\n",
      "4134711838987085478833841242112000\n"
     ]
    }
   ],
   "source": [
    "list1 = [1,2,3,4, [44,55,66, True], False, (34,56,78,89,34), {1,2,3,3,2,1}, {1:34, \"key2\": [55, 67, 78, 89], 4: (45, 22, 61, 34)}, [56, 'data science'], 'Machine Learning']\n",
    "list2=[]\n",
    "for i in list1:\n",
    "    if type(i)==list or type(i)==tuple or type(i)==set:\n",
    "        for j in i:\n",
    "            if type(j)==int:\n",
    "                list2.append(j)\n",
    "    elif type(i)==dict:\n",
    "        temp_list=list(i.items())\n",
    "        for i in temp_list:\n",
    "            for element in i:\n",
    "                if type(element)==list or type(element)==tuple:\n",
    "                    for j in element:\n",
    "                        if type(j)==int:\n",
    "                            list2.append(j)\n",
    "                else:\n",
    "                    if type(element)==int:\n",
    "                        list2.append(element)\n",
    "    else:\n",
    "        if type(i)==int:\n",
    "            list2.append(i)\n",
    "print(list2)\n",
    "a=1\n",
    "for i in list2:\n",
    "    a=a*i\n",
    "print(a)"
   ]
  },
  {
   "cell_type": "code",
   "execution_count": null,
   "id": "a4ccb2c0-3329-46e8-86e9-8b79402de3f6",
   "metadata": {},
   "outputs": [],
   "source": []
  },
  {
   "cell_type": "markdown",
   "id": "38a94e89-d43c-42db-9c4f-77a807783b64",
   "metadata": {},
   "source": [
    "Q.2"
   ]
  },
  {
   "cell_type": "code",
   "execution_count": 4,
   "id": "5ce3e3de-75c4-4f58-b547-d78988f144b6",
   "metadata": {},
   "outputs": [
    {
     "name": "stdout",
     "output_type": "stream",
     "text": [
      "r$dzmg$gl$yvxlnv$z$wzgz$hxrvmgrhg.\n"
     ]
    }
   ],
   "source": [
    "def encrypt_message(message):\n",
    "    message = message.lower()\n",
    "    trans = str.maketrans('abcdefghijklmnopqrstuvwxyz ', 'zyxwvutsrqponmlkjihgfedcba$')\n",
    "    return message.translate(trans)\n",
    "\n",
    "input_message = 'I want to become a Data Scientist.'\n",
    "encrypted_message = encrypt_message(input_message)\n",
    "print(encrypted_message)"
   ]
  },
  {
   "cell_type": "code",
   "execution_count": null,
   "id": "c7eea00a-9ef9-41e5-8467-c8a3f8be3500",
   "metadata": {},
   "outputs": [],
   "source": []
  }
 ],
 "metadata": {
  "kernelspec": {
   "display_name": "Python 3 (ipykernel)",
   "language": "python",
   "name": "python3"
  },
  "language_info": {
   "codemirror_mode": {
    "name": "ipython",
    "version": 3
   },
   "file_extension": ".py",
   "mimetype": "text/x-python",
   "name": "python",
   "nbconvert_exporter": "python",
   "pygments_lexer": "ipython3",
   "version": "3.10.8"
  }
 },
 "nbformat": 4,
 "nbformat_minor": 5
}
