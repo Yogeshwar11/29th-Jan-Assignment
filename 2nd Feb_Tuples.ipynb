{
 "cells": [
  {
   "cell_type": "markdown",
   "id": "3fb832e5-5a49-437f-98f1-a9845bb4491d",
   "metadata": {},
   "source": [
    "Q.1 Tuples are indexed"
   ]
  },
  {
   "cell_type": "markdown",
   "id": "c378ab33-6022-4fdb-8fa2-81fcc25e3a30",
   "metadata": {},
   "source": [
    "Tuples are ordered"
   ]
  },
  {
   "cell_type": "markdown",
   "id": "122c8b28-a968-42bc-9c29-55d13e00a6cf",
   "metadata": {},
   "source": [
    "These are immutable"
   ]
  },
  {
   "cell_type": "markdown",
   "id": "2703fdfc-ea23-4628-aa88-bca1f18f942a",
   "metadata": {},
   "source": [
    "They can contain duplicate items"
   ]
  },
  {
   "cell_type": "code",
   "execution_count": null,
   "id": "8f4d5177-171f-4c8e-b0bf-d05ce029680e",
   "metadata": {},
   "outputs": [],
   "source": []
  },
  {
   "cell_type": "markdown",
   "id": "e672d3d1-5dd3-40d9-8b1d-91c091fd4795",
   "metadata": {},
   "source": [
    "Q.2 Tuples have 2 methods.\n",
    "1. index() \n",
    "2. count()"
   ]
  },
  {
   "cell_type": "code",
   "execution_count": 18,
   "id": "ffd68459-f0b8-4aff-8907-1c3c8ff2b832",
   "metadata": {},
   "outputs": [],
   "source": [
    "t1 = (1, 1, 2, 3, 4, 5, 5, \"Yogeshwar\", \"Deshmukh\")"
   ]
  },
  {
   "cell_type": "code",
   "execution_count": 23,
   "id": "8ab81211-3c5c-4445-a843-fbd57b3cccb8",
   "metadata": {},
   "outputs": [
    {
     "data": {
      "text/plain": [
       "1"
      ]
     },
     "execution_count": 23,
     "metadata": {},
     "output_type": "execute_result"
    }
   ],
   "source": [
    "t1.count(\"Yogeshwar\")"
   ]
  },
  {
   "cell_type": "code",
   "execution_count": 27,
   "id": "6ddea729-22b4-4e15-b0fe-a3f132de0104",
   "metadata": {},
   "outputs": [
    {
     "data": {
      "text/plain": [
       "0"
      ]
     },
     "execution_count": 27,
     "metadata": {},
     "output_type": "execute_result"
    }
   ],
   "source": [
    "t1.index(1)"
   ]
  },
  {
   "cell_type": "markdown",
   "id": "7764363c-495f-4bdd-ada8-01d5df5dc14d",
   "metadata": {},
   "source": [
    "As tuples are immutables so we can't edit it. That's why there are only two functions for tuples."
   ]
  },
  {
   "cell_type": "code",
   "execution_count": null,
   "id": "07a70c17-2482-4d8c-b82e-a807aee8c5b5",
   "metadata": {},
   "outputs": [],
   "source": []
  },
  {
   "cell_type": "markdown",
   "id": "46a430bc-ee65-4001-8386-4615c4ea32d9",
   "metadata": {},
   "source": [
    "Q.3 Set collection datatypes in python do not allow duplicate items."
   ]
  },
  {
   "cell_type": "code",
   "execution_count": 1,
   "id": "c29ab0a0-261f-4e2b-880a-920ad62be170",
   "metadata": {},
   "outputs": [],
   "source": [
    "List = [1, 1, 1, 2, 1, 3, 1, 4, 2, 1, 2, 2, 2, 3, 2, 4, 3, 1, 3, 2, 3, 3, 3, 4, 4, 1, 4, 2, 4, 3, 4, 4]"
   ]
  },
  {
   "cell_type": "code",
   "execution_count": 2,
   "id": "6dd1cb81-ec5f-4e83-818d-3d27bda0b05e",
   "metadata": {},
   "outputs": [],
   "source": [
    "Set = set(List)"
   ]
  },
  {
   "cell_type": "code",
   "execution_count": 3,
   "id": "becabefe-8dc5-422a-affd-77e15114eeb0",
   "metadata": {},
   "outputs": [
    {
     "name": "stdout",
     "output_type": "stream",
     "text": [
      "{1, 2, 3, 4}\n"
     ]
    }
   ],
   "source": [
    "print(Set)"
   ]
  },
  {
   "cell_type": "code",
   "execution_count": null,
   "id": "74ec765e-62c0-45c9-aaa8-2df49066f4ab",
   "metadata": {},
   "outputs": [],
   "source": []
  },
  {
   "cell_type": "markdown",
   "id": "8c6f31e2-f146-49ff-894c-5a248ef90aaa",
   "metadata": {},
   "source": [
    "Q.4 The update() method updates the current set, by adding items from another set. \n",
    "The union() method returns a set that contains all items from the original set, and all items from the specified set(s)."
   ]
  },
  {
   "cell_type": "code",
   "execution_count": 26,
   "id": "89280655-d6b6-4ed7-ae59-39a39a72f05b",
   "metadata": {},
   "outputs": [
    {
     "name": "stdout",
     "output_type": "stream",
     "text": [
      "{1, 2, 3, 4, 5, 6}\n",
      "{'Yogeshwar', 1, 2, 3, 4, 5, 6}\n",
      "{'g', 1, 2, 3, 4, 5, 6, 'h', 'r', 'w', 'Yogeshwar', 'o', 'e', 'a', 's', 'Y'}\n"
     ]
    }
   ],
   "source": [
    "#Update\n",
    "s1={1,2,3,4,5}\n",
    "s1.update({6})\n",
    "print(s1)\n",
    "s1.update({\"Yogeshwar\"})\n",
    "print(s1)\n",
    "s1.update(\"Yogeshwar\")\n",
    "print(s1)"
   ]
  },
  {
   "cell_type": "code",
   "execution_count": 11,
   "id": "b8e2e2c1-11df-4e25-aeeb-2bd401713627",
   "metadata": {},
   "outputs": [
    {
     "name": "stdout",
     "output_type": "stream",
     "text": [
      "{1, 2, 3, 4, 5, 6}\n"
     ]
    }
   ],
   "source": [
    "#Union\n",
    "s2={1,2,3}\n",
    "s3={4,5,6}\n",
    "s4=s2.union(s3)\n",
    "print(s4)"
   ]
  },
  {
   "cell_type": "code",
   "execution_count": null,
   "id": "08b1e151-6f96-489b-8098-9392cade4f99",
   "metadata": {},
   "outputs": [],
   "source": []
  },
  {
   "cell_type": "markdown",
   "id": "8022c366-f50c-4e26-a983-6a019e2574c6",
   "metadata": {},
   "source": [
    "Q.5 Dictionaries are used to store data values in key:value pairs.\n",
    "\n",
    "A dictionary is a collection which is ordered, changeable and do not allow duplicates"
   ]
  },
  {
   "cell_type": "code",
   "execution_count": 27,
   "id": "c83616cd-30c7-47a8-a2d4-5f5933e55a8c",
   "metadata": {},
   "outputs": [
    {
     "name": "stdout",
     "output_type": "stream",
     "text": [
      "{'a': 2, 'b': 3, 'c': 4}\n"
     ]
    }
   ],
   "source": [
    "my_dict={\"a\":2,\"b\":3,\"c\":4}\n",
    "print(my_dict)"
   ]
  },
  {
   "cell_type": "code",
   "execution_count": null,
   "id": "68224aea-0457-4039-8ab4-c26ce68b7cf2",
   "metadata": {},
   "outputs": [],
   "source": []
  },
  {
   "cell_type": "markdown",
   "id": "a7d47c02-277f-47d1-96ec-d14769b70554",
   "metadata": {},
   "source": [
    "Q.6 Yes, we can create a nested dictionary"
   ]
  },
  {
   "cell_type": "code",
   "execution_count": 2,
   "id": "61533bee-7c16-4dc8-ae91-e82814ba4ce6",
   "metadata": {},
   "outputs": [
    {
     "name": "stdout",
     "output_type": "stream",
     "text": [
      "{'brand': 'BMW', 'Model': 'M1', 'Specification': {'Engine': '2hp'}}\n"
     ]
    }
   ],
   "source": [
    "d2={\"brand\":\"BMW\", \"Model\":\"M1\", \"Specification\":{\"Engine\":\"2hp\"}}\n",
    "print(d2)"
   ]
  },
  {
   "cell_type": "code",
   "execution_count": null,
   "id": "9a4c4f21-038c-43a8-9bf2-3c239105a6da",
   "metadata": {},
   "outputs": [],
   "source": []
  },
  {
   "cell_type": "markdown",
   "id": "9741dfd8-c62e-45dd-b7ab-f3fcbb713015",
   "metadata": {},
   "source": [
    "Q.7"
   ]
  },
  {
   "cell_type": "code",
   "execution_count": 7,
   "id": "1dcb2d5a-13d2-442a-8abc-d99ffc5eb056",
   "metadata": {},
   "outputs": [
    {
     "name": "stdout",
     "output_type": "stream",
     "text": [
      "{'language': 'Python', 'course': 'Data Science Masters', 'topics': ['Python', 'Machine Learning', 'Deep Learning']}\n"
     ]
    }
   ],
   "source": [
    "dict1 = {'language' : 'Python', 'course': 'Data Science Masters'}\n",
    "dict2=dict1.setdefault(\"topics\",['Python', 'Machine Learning', 'Deep Learning'])\n",
    "print(dict1)\n",
    "\n"
   ]
  },
  {
   "cell_type": "markdown",
   "id": "5a81bb91-df7f-4074-aef3-fb1625f8fd74",
   "metadata": {},
   "source": [
    "Q.8"
   ]
  },
  {
   "cell_type": "markdown",
   "id": "09089f3d-cb32-419b-9ff4-b04d458ffe53",
   "metadata": {},
   "source": [
    "There are three types of dictionary views:"
   ]
  },
  {
   "cell_type": "markdown",
   "id": "ab6c61ba-4a26-4fe3-8e6b-f10e7963ddd7",
   "metadata": {},
   "source": [
    "1.dict_keys: Obtained by calling the keys() method."
   ]
  },
  {
   "cell_type": "markdown",
   "id": "17da077e-8a9f-4eaf-b145-966574f9b80c",
   "metadata": {},
   "source": [
    "2.dict_values: Obtained by calling the values() method\n"
   ]
  },
  {
   "cell_type": "markdown",
   "id": "da1420de-5df7-4506-85d4-6f213d9d92b9",
   "metadata": {},
   "source": [
    "3.dict_items: Obtained by calling the items() method"
   ]
  },
  {
   "cell_type": "code",
   "execution_count": 9,
   "id": "e2fd5d64-9a10-47b2-bdf2-a1da0707a5a9",
   "metadata": {},
   "outputs": [
    {
     "name": "stdout",
     "output_type": "stream",
     "text": [
      "dict_keys(['Sport', 'Teams'])\n",
      "dict_values(['Cricket', ['India', 'Australia', 'England', 'South Africa', 'Sri Lanka', 'New Zealand']])\n",
      "dict_items([('Sport', 'Cricket'), ('Teams', ['India', 'Australia', 'England', 'South Africa', 'Sri Lanka', 'New Zealand'])])\n"
     ]
    }
   ],
   "source": [
    "dict1 = {'Sport': 'Cricket' , 'Teams': ['India', 'Australia', 'England', 'South Africa', 'Sri Lanka', 'New Zealand']}\n",
    "x=dict1.keys()\n",
    "print(x)\n",
    "y=dict1.values()\n",
    "print(y)\n",
    "z=dict1.items()\n",
    "print(z)"
   ]
  },
  {
   "cell_type": "code",
   "execution_count": null,
   "id": "79169c0f-5117-477f-9646-e26214572085",
   "metadata": {},
   "outputs": [],
   "source": []
  }
 ],
 "metadata": {
  "kernelspec": {
   "display_name": "Python 3 (ipykernel)",
   "language": "python",
   "name": "python3"
  },
  "language_info": {
   "codemirror_mode": {
    "name": "ipython",
    "version": 3
   },
   "file_extension": ".py",
   "mimetype": "text/x-python",
   "name": "python",
   "nbconvert_exporter": "python",
   "pygments_lexer": "ipython3",
   "version": "3.10.8"
  }
 },
 "nbformat": 4,
 "nbformat_minor": 5
}
