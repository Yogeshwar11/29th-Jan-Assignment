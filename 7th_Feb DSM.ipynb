{
 "cells": [
  {
   "cell_type": "markdown",
   "id": "ab34a57e-1d16-4aa9-a96e-517e5c155bd4",
   "metadata": {},
   "source": [
    "Q.1"
   ]
  },
  {
   "cell_type": "code",
   "execution_count": 5,
   "id": "9854672b-626e-4caf-a1b7-226e37347ea6",
   "metadata": {},
   "outputs": [
    {
     "data": {
      "text/plain": [
       "'Valid Password'"
      ]
     },
     "execution_count": 5,
     "metadata": {},
     "output_type": "execute_result"
    }
   ],
   "source": [
    "def check_password(password):\n",
    "    if len(password)  < 10:\n",
    "        return \"Invalid Password\"\n",
    "    num_count = sum(c.isdigit() for c in password)\n",
    "    if num_count < 1:\n",
    "        return \"Invalid Password\"\n",
    "    special_count = sum(1 for c in password if c in \"!@#$%^&*()-+\")\n",
    "    if special_count < 3:\n",
    "        return \"Invalid Password\"\n",
    "    upper_count = sum(c.isupper() for c in password)\n",
    "    lower_count = sum(c.islower() for c in password)\n",
    "    if upper_count < 2 or lower_count < 2:\n",
    "        return \"Invalid Password\"\n",
    "    return \"Valid Password\"\n",
    "\n",
    "check_password(\"PassWord!#@123\")"
   ]
  },
  {
   "cell_type": "code",
   "execution_count": null,
   "id": "06f5797e-c85c-4585-bb0c-22ffda3486f7",
   "metadata": {},
   "outputs": [],
   "source": []
  },
  {
   "cell_type": "markdown",
   "id": "5bb122a3-9a3a-4c33-b4d9-516916943199",
   "metadata": {},
   "source": [
    "Q.2"
   ]
  },
  {
   "cell_type": "code",
   "execution_count": 12,
   "id": "983824cf-08eb-4c55-b86a-3564348cdd4b",
   "metadata": {},
   "outputs": [
    {
     "name": "stdout",
     "output_type": "stream",
     "text": [
      "True\n"
     ]
    }
   ],
   "source": [
    "result=lambda l: True if l.startswith(\"Y\") else False\n",
    "print(result(\"Yogeshwar\"))"
   ]
  },
  {
   "cell_type": "code",
   "execution_count": 15,
   "id": "c8f78f80-9eba-4cb1-8366-dfd1ff69abc6",
   "metadata": {},
   "outputs": [
    {
     "name": "stdout",
     "output_type": "stream",
     "text": [
      "True\n"
     ]
    }
   ],
   "source": [
    "num=lambda x: True if x.isdigit() else False\n",
    "print(num(\"123\"))"
   ]
  },
  {
   "cell_type": "code",
   "execution_count": 25,
   "id": "ff6e349d-e11b-4725-b106-0ee544c4be7e",
   "metadata": {},
   "outputs": [
    {
     "name": "stdout",
     "output_type": "stream",
     "text": [
      "[('orange', 80), ('mango', 99), ('grapes', 1000)]\n"
     ]
    }
   ],
   "source": [
    "sample=[(\"mango\",99),(\"orange\",80), (\"grapes\", 1000)]\n",
    "sample.sort(key=lambda a: a[1])\n",
    "print(sample)"
   ]
  },
  {
   "cell_type": "code",
   "execution_count": 41,
   "id": "184998ef-ebaf-4350-899c-600f5910d11f",
   "metadata": {},
   "outputs": [
    {
     "name": "stdout",
     "output_type": "stream",
     "text": [
      "(1, 4, 9, 16, 25, 36, 49, 64, 81, 100)\n"
     ]
    }
   ],
   "source": [
    "def sq(y):\n",
    "    return y**2\n",
    "list1=[]\n",
    "for i in range(1,11):\n",
    "    list1.append(i)\n",
    "\n",
    "ob1=tuple(map(sq,list1))\n",
    "print(ob1)"
   ]
  },
  {
   "cell_type": "code",
   "execution_count": 42,
   "id": "7efd182d-ef73-4fc6-81a7-8adf90119533",
   "metadata": {},
   "outputs": [
    {
     "name": "stdout",
     "output_type": "stream",
     "text": [
      "(1, 8, 27, 64, 125, 216, 343, 512, 729, 1000)\n"
     ]
    }
   ],
   "source": [
    "def sq(y):\n",
    "    return y**3\n",
    "list1=[]\n",
    "for i in range(1,11):\n",
    "    list1.append(i)\n",
    "\n",
    "ob1=tuple(map(sq,list1))\n",
    "print(ob1)"
   ]
  },
  {
   "cell_type": "code",
   "execution_count": 94,
   "id": "9b5190c2-0b28-4223-9203-3b1b97eacd5f",
   "metadata": {},
   "outputs": [
    {
     "name": "stdin",
     "output_type": "stream",
     "text": [
      " 9\n"
     ]
    },
    {
     "name": "stdout",
     "output_type": "stream",
     "text": [
      "Odd number\n"
     ]
    }
   ],
   "source": [
    "n=int(input())\n",
    "odd_even=lambda n:\"Even number\" if(n%2==0) else \"Odd number\"\n",
    "print(odd_even(n))"
   ]
  },
  {
   "cell_type": "code",
   "execution_count": 56,
   "id": "c42d1488-4a10-4855-9433-3ff8702c6c30",
   "metadata": {},
   "outputs": [],
   "source": [
    "l=[1,2,3,4,5,6,7,8,9,10]"
   ]
  },
  {
   "cell_type": "code",
   "execution_count": 68,
   "id": "25c69772-e098-4439-9158-9e9dfab0f2f3",
   "metadata": {},
   "outputs": [
    {
     "data": {
      "text/plain": [
       "(1, 3, 5, 7, 9)"
      ]
     },
     "execution_count": 68,
     "metadata": {},
     "output_type": "execute_result"
    }
   ],
   "source": [
    "tuple(filter(lambda x : x % 2 !=0 , l))"
   ]
  },
  {
   "cell_type": "code",
   "execution_count": 95,
   "id": "f5cfdfb7-964d-46ad-94e1-6582d9b57c47",
   "metadata": {},
   "outputs": [
    {
     "name": "stdout",
     "output_type": "stream",
     "text": [
      "[0, 1, 2, 3, 4, 5, 6, -5, -4, -3, -2, -1]\n"
     ]
    }
   ],
   "source": [
    "test_list=[1,2,3,4,5,6,-1,-2,-3,-4,-5,0]\n",
    "positive_nums = [x for x in test_list if x >= 0]\n",
    "negative_nums = [x for x in test_list if x < 0]\n",
    "positive_nums.sort()\n",
    "negative_nums.sort()\n",
    "res = positive_nums + negative_nums\n",
    "print(res)"
   ]
  },
  {
   "cell_type": "code",
   "execution_count": null,
   "id": "ef22ce7c-5581-4b70-a5f1-90cd3e34177f",
   "metadata": {},
   "outputs": [],
   "source": []
  }
 ],
 "metadata": {
  "kernelspec": {
   "display_name": "Python 3 (ipykernel)",
   "language": "python",
   "name": "python3"
  },
  "language_info": {
   "codemirror_mode": {
    "name": "ipython",
    "version": 3
   },
   "file_extension": ".py",
   "mimetype": "text/x-python",
   "name": "python",
   "nbconvert_exporter": "python",
   "pygments_lexer": "ipython3",
   "version": "3.10.8"
  }
 },
 "nbformat": 4,
 "nbformat_minor": 5
}
