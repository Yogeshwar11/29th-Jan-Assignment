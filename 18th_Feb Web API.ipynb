{
 "cells": [
  {
   "cell_type": "markdown",
   "id": "a1fc5051-c25b-4994-bf1e-abd1031f5337",
   "metadata": {},
   "source": [
    "Q.1 API stands for application programming interface—a set of definitions and protocols to build and integrate application software. APIs are used to deliver material by streaming services such as Spotify and Netflix"
   ]
  },
  {
   "cell_type": "code",
   "execution_count": null,
   "id": "524b8778-e920-4fdd-a1f7-7ebe0789ecda",
   "metadata": {},
   "outputs": [],
   "source": []
  },
  {
   "cell_type": "markdown",
   "id": "5807492b-f15b-4d40-9cb0-564e70345e3b",
   "metadata": {},
   "source": [
    "Q.2 The main advantage of an API is that it allows your users to do more with your product or service (i.e. it increases the value of your product). This typically takes one of two forms -\n",
    "\n",
    "An integration. An example of an integration is to push notifications from your product (such as CRM, Helpdesk) to a messaging tool such as Slack. In this way, if your customer uses Slack they can receive notifications without having to login directly to your system or check emails.\n",
    "\n",
    "\n",
    "New functionality. In the early days of Twitter, some of the most popular Twitter clients were produced by third parties using the Twitter API. Twitter and its users benefited from the new functionality that was undertaken by other companies.\n",
    "\n",
    "The disadvantages of an API are,\n",
    "\n",
    "Cost. Providing an API is expensive in terms of development time, ongoing maintenance, providing API documentation on your website and providing support to users of your API.\n",
    "\n",
    "Security exposure. Adding an API adds another attack surface to your website."
   ]
  },
  {
   "cell_type": "code",
   "execution_count": null,
   "id": "4c1a4f02-2715-45df-8ec1-8e88114a9a33",
   "metadata": {},
   "outputs": [],
   "source": []
  },
  {
   "cell_type": "markdown",
   "id": "45703a11-ddfa-4951-bbe4-36cada279860",
   "metadata": {},
   "source": [
    "Q.3 Web API is an extensible framework for building HTTP based services that can be accessed in different applications on different platforms such as web, windows, mobile etc.\n",
    "\n",
    "API can be created using TCP, SMTP, HTTP protocol while Web API can be created using only HTTP protocol.\n"
   ]
  },
  {
   "cell_type": "code",
   "execution_count": null,
   "id": "3b36a237-a18e-48cd-a9b4-decb783c0a29",
   "metadata": {},
   "outputs": [],
   "source": []
  },
  {
   "cell_type": "markdown",
   "id": "586446bb-8aee-4ddd-876c-0678842fc4c0",
   "metadata": {},
   "source": [
    "Q.4 \n",
    "A. REST\n",
    "1. A client-server architecture composed of clients, servers, and resources.\n",
    "2. Stateless client-server communication, meaning no client content is stored on the server between requests. Information about the session’s state is instead held with the client.\n",
    "3. Cacheable data to eliminate the need for some client-server interactions.\n",
    "4. A uniform interface between components so that information is transferred in a standardized form instead of specific to an application’s needs. This is described by Roy Fielding, the originator of REST, as “the central feature that distinguishes the REST architectural style from other network-based styles.”\n",
    "5. A layered system constraint, where client-server interactions can be mediated by hierarchical layers.\n",
    "6. Code on demand, allowing servers to extend the functionality of a client by transferring executable code\n",
    "\n",
    "B. SOAP\n",
    "1. Web services security (WS-security): Standardizes how messages are secured and transferred through unique identifiers called tokens.\n",
    "2. WS-ReliableMessaging: Standardizes error handling between messages transferred across unreliable IT infrastructure.\n",
    "3. Web services addressing (WS-addressing): Packages routing information as metadata within SOAP headers, instead of maintaining such information deeper within the network.\n",
    "4. Web services description language (WSDL): Describes what a web service does, and where that service begins and ends.\n",
    "\n",
    "C. Shortcomings of SOAP\n",
    "1. Resource-consuming. Due to the larger size of an XML-file and a payload created by the massive structure of a message, a SOAP API requires a larger bandwidth. Sometimes, this trade-off isn’t worth dealing with. Simply put, it’s slow to process these strings of tags that XML messages abound with.\n",
    "2. Hard learning curve. Being protocol-based, building SOAP API servers requires knowledge and understanding of all protocols you may use with it. Developers dealing with building these types of APIs should dive deep into all processes inside the protocol with its highly restricted rules.\n",
    "3. Lacks flexibility. We’ve mentioned that a SOAP API serves as a strict contract between a client and a server. With this in mind, this rigid SOAP schema requires additional effort to add or remove the message properties on both sides of the communication, the server and the client. It makes updating requests and responses a tedious process and slows down adoption."
   ]
  },
  {
   "cell_type": "code",
   "execution_count": null,
   "id": "aae87038-5790-40d8-a5ed-2ee7b60e6525",
   "metadata": {},
   "outputs": [],
   "source": []
  },
  {
   "cell_type": "markdown",
   "id": "2156aab1-c13c-4d15-a2b2-f1fe1ee48a29",
   "metadata": {},
   "source": [
    "Q.5 \n",
    "1. SOAP stands for Simple Object Access Protocol whereas REST stands for Representational State Transfer.\n",
    "2. SOAP is a protocol whereas REST is an architectural pattern.\n",
    "3. SOAP uses service interfaces to expose its functionality to client applications while REST uses Uniform Service locators to access to the components on the hardware device.\n",
    "4. SOAP needs more bandwidth for its usage whereas REST doesn’t need much bandwidth.\n",
    "5. Comparing SOAP vs REST API, SOAP only works with XML formats whereas REST work with plain text, XML, HTML and JSON.\n",
    "6. SOAP cannot make use of REST whereas REST can make use of SOAP."
   ]
  },
  {
   "cell_type": "code",
   "execution_count": null,
   "id": "efbf6140-68b1-4cd0-8d4f-551f2e195c82",
   "metadata": {},
   "outputs": [],
   "source": []
  }
 ],
 "metadata": {
  "kernelspec": {
   "display_name": "Python 3 (ipykernel)",
   "language": "python",
   "name": "python3"
  },
  "language_info": {
   "codemirror_mode": {
    "name": "ipython",
    "version": 3
   },
   "file_extension": ".py",
   "mimetype": "text/x-python",
   "name": "python",
   "nbconvert_exporter": "python",
   "pygments_lexer": "ipython3",
   "version": "3.10.8"
  }
 },
 "nbformat": 4,
 "nbformat_minor": 5
}
